{
 "cells": [
  {
   "cell_type": "markdown",
   "id": "897013ae-22a0-4d9c-93b0-c21be721f6fe",
   "metadata": {},
   "source": [
    "# 판다스\n",
    "---"
   ]
  },
  {
   "cell_type": "code",
   "execution_count": 40,
   "id": "a09113ed-409e-4d7b-8eca-7efb8fa2511a",
   "metadata": {},
   "outputs": [],
   "source": [
    "# !pip install pandas --upgrade"
   ]
  },
  {
   "cell_type": "code",
   "execution_count": 41,
   "id": "ef0ad51d-a1b4-4ac2-b86c-6f97f4022733",
   "metadata": {},
   "outputs": [
    {
     "data": {
      "text/plain": [
       "'1.4.4'"
      ]
     },
     "execution_count": 41,
     "metadata": {},
     "output_type": "execute_result"
    }
   ],
   "source": [
    "import pandas as pd\n",
    "import numpy as np\n",
    "pd.__version__"
   ]
  },
  {
   "cell_type": "markdown",
   "id": "1cbdb52d-8e4f-4c8c-8919-2c451cbdd916",
   "metadata": {},
   "source": [
    "![](https://www.runoob.com/wp-content/uploads/2021/04/df-dp.png)"
   ]
  },
  {
   "cell_type": "markdown",
   "id": "9886ea0a-0a37-43e0-8c10-4cd85e9a3407",
   "metadata": {},
   "source": [
    "## Series"
   ]
  },
  {
   "cell_type": "code",
   "execution_count": 42,
   "id": "4ddcb83b-4ad8-449f-a1e8-3dc67e2ccd66",
   "metadata": {},
   "outputs": [
    {
     "name": "stdout",
     "output_type": "stream",
     "text": [
      "0    1\n",
      "1    2\n",
      "2    3\n",
      "3    4\n",
      "4    5\n",
      "Name: Apple, dtype: int64\n"
     ]
    }
   ],
   "source": [
    "sr = pd.Series([1,2,3,4,5],name='Apple')\n",
    "print(sr)"
   ]
  },
  {
   "cell_type": "code",
   "execution_count": 43,
   "id": "6b53e8c6-fb6f-4f46-8977-f4de4367435d",
   "metadata": {},
   "outputs": [
    {
     "name": "stdout",
     "output_type": "stream",
     "text": [
      "RangeIndex(start=0, stop=5, step=1)\n",
      "(5,)\n"
     ]
    }
   ],
   "source": [
    "print(sr.index)\n",
    "print(sr.shape)"
   ]
  },
  {
   "cell_type": "code",
   "execution_count": 44,
   "id": "4cc0ad44-c100-4381-824e-05ab50df2141",
   "metadata": {},
   "outputs": [
    {
     "data": {
      "text/plain": [
       "1    2\n",
       "2    3\n",
       "Name: Apple, dtype: int64"
      ]
     },
     "execution_count": 44,
     "metadata": {},
     "output_type": "execute_result"
    }
   ],
   "source": [
    "sr[1:3]"
   ]
  },
  {
   "cell_type": "code",
   "execution_count": 45,
   "id": "4f715af8-eb37-4fd0-9b7a-36f902a464cd",
   "metadata": {},
   "outputs": [
    {
     "data": {
      "text/plain": [
       "a    1\n",
       "b    2\n",
       "c    3\n",
       "d    4\n",
       "e    5\n",
       "Name: Apple, dtype: int64"
      ]
     },
     "execution_count": 45,
     "metadata": {},
     "output_type": "execute_result"
    }
   ],
   "source": [
    "sr = pd.Series([1,2,3,4,5],name='Apple',index=['a','b','c','d','e'])\n",
    "sr"
   ]
  },
  {
   "cell_type": "code",
   "execution_count": 46,
   "id": "c00284ec-983b-4277-9f01-50898b789b02",
   "metadata": {},
   "outputs": [
    {
     "data": {
      "text/plain": [
       "(Index(['a', 'b', 'c', 'd', 'e'], dtype='object'),\n",
       " array([1, 2, 3, 4, 5], dtype=int64),\n",
       " array([1, 2, 3, 4, 5], dtype=int64))"
      ]
     },
     "execution_count": 46,
     "metadata": {},
     "output_type": "execute_result"
    }
   ],
   "source": [
    "sr.index,sr.values,sr.to_numpy()"
   ]
  },
  {
   "cell_type": "code",
   "execution_count": 47,
   "id": "8550eb12-307c-468d-a70a-90463b673d6f",
   "metadata": {},
   "outputs": [
    {
     "data": {
      "text/html": [
       "<div>\n",
       "<style scoped>\n",
       "    .dataframe tbody tr th:only-of-type {\n",
       "        vertical-align: middle;\n",
       "    }\n",
       "\n",
       "    .dataframe tbody tr th {\n",
       "        vertical-align: top;\n",
       "    }\n",
       "\n",
       "    .dataframe thead th {\n",
       "        text-align: right;\n",
       "    }\n",
       "</style>\n",
       "<table border=\"1\" class=\"dataframe\">\n",
       "  <thead>\n",
       "    <tr style=\"text-align: right;\">\n",
       "      <th></th>\n",
       "      <th>index</th>\n",
       "      <th>Apple</th>\n",
       "    </tr>\n",
       "  </thead>\n",
       "  <tbody>\n",
       "    <tr>\n",
       "      <th>0</th>\n",
       "      <td>a</td>\n",
       "      <td>1</td>\n",
       "    </tr>\n",
       "    <tr>\n",
       "      <th>1</th>\n",
       "      <td>b</td>\n",
       "      <td>2</td>\n",
       "    </tr>\n",
       "    <tr>\n",
       "      <th>2</th>\n",
       "      <td>c</td>\n",
       "      <td>3</td>\n",
       "    </tr>\n",
       "    <tr>\n",
       "      <th>3</th>\n",
       "      <td>d</td>\n",
       "      <td>4</td>\n",
       "    </tr>\n",
       "    <tr>\n",
       "      <th>4</th>\n",
       "      <td>e</td>\n",
       "      <td>5</td>\n",
       "    </tr>\n",
       "  </tbody>\n",
       "</table>\n",
       "</div>"
      ],
      "text/plain": [
       "  index  Apple\n",
       "0     a      1\n",
       "1     b      2\n",
       "2     c      3\n",
       "3     d      4\n",
       "4     e      5"
      ]
     },
     "execution_count": 47,
     "metadata": {},
     "output_type": "execute_result"
    }
   ],
   "source": [
    "sr.reset_index()"
   ]
  },
  {
   "cell_type": "code",
   "execution_count": 48,
   "id": "c0870ff7-f8f8-48c2-99c1-03a55b05a24c",
   "metadata": {},
   "outputs": [
    {
     "data": {
      "text/plain": [
       "0    1.0\n",
       "1    NaN\n",
       "2    2.0\n",
       "3    3.0\n",
       "4    NaN\n",
       "5    4.0\n",
       "6    5.0\n",
       "dtype: float64"
      ]
     },
     "execution_count": 48,
     "metadata": {},
     "output_type": "execute_result"
    }
   ],
   "source": [
    "sr = pd.Series([1,np.nan,2,3,np.nan,4,5]) #np.nan 값이 없음을 뜻함\n",
    "sr"
   ]
  },
  {
   "cell_type": "code",
   "execution_count": 49,
   "id": "94f78296-285f-4525-905a-fe31d07245e4",
   "metadata": {},
   "outputs": [
    {
     "data": {
      "text/plain": [
       "1    NaN\n",
       "2    2.0\n",
       "4    NaN\n",
       "dtype: float64"
      ]
     },
     "execution_count": 49,
     "metadata": {},
     "output_type": "execute_result"
    }
   ],
   "source": [
    "#fancy indexing\n",
    "sr[[1,2,4]]"
   ]
  },
  {
   "cell_type": "code",
   "execution_count": 50,
   "id": "9901303c-4881-47ca-8f46-d4280b18e7fb",
   "metadata": {},
   "outputs": [
    {
     "data": {
      "text/plain": [
       "1    NaN\n",
       "2    2.0\n",
       "4    NaN\n",
       "dtype: float64"
      ]
     },
     "execution_count": 50,
     "metadata": {},
     "output_type": "execute_result"
    }
   ],
   "source": [
    "# boolean indexing\n",
    "idx = [False,True,True,False,True,False,False]\n",
    "sr[idx]"
   ]
  },
  {
   "cell_type": "code",
   "execution_count": 51,
   "id": "95ade759-6541-47f7-a3ea-a82a8e779342",
   "metadata": {},
   "outputs": [
    {
     "data": {
      "text/plain": [
       "5    4.0\n",
       "6    5.0\n",
       "dtype: float64"
      ]
     },
     "execution_count": 51,
     "metadata": {},
     "output_type": "execute_result"
    }
   ],
   "source": [
    "# 조건\n",
    "sr[sr>3]"
   ]
  },
  {
   "cell_type": "code",
   "execution_count": 55,
   "id": "b46751bd-0f6f-44c0-a36a-cb0fd5f357d3",
   "metadata": {},
   "outputs": [
    {
     "name": "stdout",
     "output_type": "stream",
     "text": [
      "0    False\n",
      "1     True\n",
      "2    False\n",
      "3    False\n",
      "4     True\n",
      "5    False\n",
      "6    False\n",
      "dtype: bool\n"
     ]
    },
    {
     "data": {
      "text/plain": [
       "1   NaN\n",
       "4   NaN\n",
       "dtype: float64"
      ]
     },
     "execution_count": 55,
     "metadata": {},
     "output_type": "execute_result"
    }
   ],
   "source": [
    "# 결측치 (Missing Value)\n",
    "\n",
    "print(sr.isna()) #결측치파트만 True로 반환\n",
    "sr[sr.isna()] #isna() == isnull()\n",
    "sr[sr.isnull()]"
   ]
  },
  {
   "cell_type": "code",
   "execution_count": 58,
   "id": "625079d4-e17c-41ff-ba34-4297013ff2c2",
   "metadata": {},
   "outputs": [
    {
     "data": {
      "text/plain": [
       "2"
      ]
     },
     "execution_count": 58,
     "metadata": {},
     "output_type": "execute_result"
    }
   ],
   "source": [
    "sr.isna().sum() #내가 가진 데이터에서 결측치가 몇개인지 알 수 있다"
   ]
  },
  {
   "cell_type": "code",
   "execution_count": 63,
   "id": "7f11e83a-af77-4021-8d4f-1b25a65a421d",
   "metadata": {},
   "outputs": [
    {
     "data": {
      "text/plain": [
       "0    1.0\n",
       "1    3.0\n",
       "2    2.0\n",
       "3    3.0\n",
       "4    3.0\n",
       "5    4.0\n",
       "6    5.0\n",
       "dtype: float64"
      ]
     },
     "execution_count": 63,
     "metadata": {},
     "output_type": "execute_result"
    }
   ],
   "source": [
    "x = sr.copy()\n",
    "x[x.isna()] = x.mean() #결측치에 x의 평균값을 넣는 문장\n",
    "x"
   ]
  },
  {
   "cell_type": "code",
   "execution_count": 69,
   "id": "41a01525-a1dc-43a2-88d9-65af9ae6d6d0",
   "metadata": {},
   "outputs": [
    {
     "data": {
      "text/plain": [
       "0    1.0\n",
       "2    2.0\n",
       "3    3.0\n",
       "5    4.0\n",
       "6    5.0\n",
       "dtype: float64"
      ]
     },
     "execution_count": 69,
     "metadata": {},
     "output_type": "execute_result"
    }
   ],
   "source": [
    "y = sr.copy()\n",
    "y = y.dropna()  #결측치를 날린 상태로 y에 복사하는 방법\n",
    "y"
   ]
  },
  {
   "cell_type": "code",
   "execution_count": 68,
   "id": "f290e32d-4780-4885-91a7-41c2300030f6",
   "metadata": {},
   "outputs": [
    {
     "data": {
      "text/plain": [
       "0    1.0\n",
       "2    2.0\n",
       "3    3.0\n",
       "5    4.0\n",
       "6    5.0\n",
       "dtype: float64"
      ]
     },
     "execution_count": 68,
     "metadata": {},
     "output_type": "execute_result"
    }
   ],
   "source": [
    "z = sr.copy()\n",
    "z.dropna(inplace=True) #inplace 는 기본적으로 False로 돼 있다. True로 바꾸면 바로 바뀐다.\n",
    "z"
   ]
  },
  {
   "cell_type": "code",
   "execution_count": 73,
   "id": "e6d25eeb-362d-4092-b1ea-913353656bbb",
   "metadata": {},
   "outputs": [
    {
     "data": {
      "text/plain": [
       "0    1.0\n",
       "1    3.0\n",
       "2    2.0\n",
       "3    3.0\n",
       "4    3.0\n",
       "5    4.0\n",
       "6    5.0\n",
       "dtype: float64"
      ]
     },
     "execution_count": 73,
     "metadata": {},
     "output_type": "execute_result"
    }
   ],
   "source": [
    "# x = sr.copy()\n",
    "# x[x.isna()] = x.mean()\n",
    "\n",
    "w = sr.copy()\n",
    "w.fillna(w.mean()) #fillna 역시 위 식과 같은 결과가 나온다. 내부를 뭘로 채울지 정할 수 있음"
   ]
  },
  {
   "cell_type": "markdown",
   "id": "4e964613-ec60-4767-9415-4448f1d12b41",
   "metadata": {},
   "source": [
    "## 슬라이싱"
   ]
  },
  {
   "cell_type": "code",
   "execution_count": 92,
   "id": "594e7c7d-6acc-42ed-9959-8ac462566605",
   "metadata": {},
   "outputs": [
    {
     "data": {
      "text/plain": [
       "john     10\n",
       "eva      15\n",
       "james    12\n",
       "lian     17\n",
       "zoe      13\n",
       "dtype: int64"
      ]
     },
     "execution_count": 92,
     "metadata": {},
     "output_type": "execute_result"
    }
   ],
   "source": [
    "sr = pd.Series([10, 15, 12, 17, 13], index = ['john', 'eva','james','lian','zoe'])\n",
    "sr"
   ]
  },
  {
   "cell_type": "code",
   "execution_count": 93,
   "id": "ce4d34f8-7d3a-4dbf-9c49-cf74cf421daa",
   "metadata": {},
   "outputs": [
    {
     "data": {
      "text/plain": [
       "eva      15\n",
       "james    12\n",
       "lian     17\n",
       "dtype: int64"
      ]
     },
     "execution_count": 93,
     "metadata": {},
     "output_type": "execute_result"
    }
   ],
   "source": [
    "sr['eva':'lian'] #index로 slicing할 경우 마지막 범위까지 포함된다"
   ]
  },
  {
   "cell_type": "code",
   "execution_count": 94,
   "id": "e67db7f3-c096-40c4-99ce-ab61094a746c",
   "metadata": {},
   "outputs": [
    {
     "data": {
      "text/plain": [
       "john     10\n",
       "eva      15\n",
       "james    12\n",
       "lian     17\n",
       "dtype: int64"
      ]
     },
     "execution_count": 94,
     "metadata": {},
     "output_type": "execute_result"
    }
   ],
   "source": [
    "sr[:-1]"
   ]
  },
  {
   "cell_type": "code",
   "execution_count": 95,
   "id": "635c66d0-80b4-4358-b0e9-621190293433",
   "metadata": {},
   "outputs": [
    {
     "data": {
      "text/plain": [
       "john     10\n",
       "eva      15\n",
       "james    12\n",
       "lian     17\n",
       "zoe      13\n",
       "dtype: int64"
      ]
     },
     "execution_count": 95,
     "metadata": {},
     "output_type": "execute_result"
    }
   ],
   "source": [
    "sr[:]"
   ]
  },
  {
   "cell_type": "code",
   "execution_count": 96,
   "id": "3f1ebb6e-d4db-42ea-8865-46a982b0c5e7",
   "metadata": {},
   "outputs": [
    {
     "data": {
      "text/plain": [
       "lian     17\n",
       "eva      15\n",
       "zoe      13\n",
       "james    12\n",
       "john     10\n",
       "dtype: int64"
      ]
     },
     "execution_count": 96,
     "metadata": {},
     "output_type": "execute_result"
    }
   ],
   "source": [
    "# 값 기준 정렬 \n",
    "sr.sort_values() #오름차순\n",
    "sr.sort_values(ascending = False) #내림차순 (ascending은 기본적으로 True로 돼있다)"
   ]
  },
  {
   "cell_type": "code",
   "execution_count": 97,
   "id": "7f7fd680-937c-4fd6-b157-1bfc27234022",
   "metadata": {},
   "outputs": [
    {
     "data": {
      "text/plain": [
       "lian    17\n",
       "eva     15\n",
       "zoe     13\n",
       "dtype: int64"
      ]
     },
     "execution_count": 97,
     "metadata": {},
     "output_type": "execute_result"
    }
   ],
   "source": [
    "## op3 멤버를 뽑는다면\n",
    "sr.sort_values(ascending = False)[:3]"
   ]
  },
  {
   "cell_type": "code",
   "execution_count": 98,
   "id": "f9b8a769-31ef-44c2-b3c2-ee237e650072",
   "metadata": {},
   "outputs": [
    {
     "data": {
      "text/plain": [
       "eva      15\n",
       "james    12\n",
       "john     10\n",
       "lian     17\n",
       "zoe      13\n",
       "dtype: int64"
      ]
     },
     "execution_count": 98,
     "metadata": {},
     "output_type": "execute_result"
    }
   ],
   "source": [
    "# index 기준 정렬\n",
    "sr.sort_index()"
   ]
  },
  {
   "cell_type": "markdown",
   "id": "af1a8612-aa97-4044-b390-96bba4b61996",
   "metadata": {},
   "source": [
    "## DataFrame"
   ]
  },
  {
   "cell_type": "code",
   "execution_count": 99,
   "id": "a2cf79ce-e236-4a2a-85a9-32bcb6e54876",
   "metadata": {},
   "outputs": [],
   "source": [
    "doc = [['Joe', 20, 85.10, 'A', 'Swimming'],\n",
    "        ['Nat', 21, 77.80, 'B', 'Reading'],\n",
    "        ['Harry', 19, 91.54, 'A', 'Music'],\n",
    "        ['Sam', 20, 88.78, 'A', 'Painting'],\n",
    "        ['Monica', 22, 60.55, 'B', 'Dancing']]\n",
    "\n",
    "c_name = ['Name', 'Age', 'Marks', 'Grade', 'Hobby']\n",
    "idx = ['s1', 's2', 's3', 's4', 's5']"
   ]
  },
  {
   "cell_type": "code",
   "execution_count": 109,
   "id": "4ee8c43c-855e-459b-a328-5653e814ea20",
   "metadata": {},
   "outputs": [
    {
     "name": "stdout",
     "output_type": "stream",
     "text": [
      "      Name  Age  Marks Grade     Hobby\n",
      "s1     Joe   20  85.10     A  Swimming\n",
      "s2     Nat   21  77.80     B   Reading\n",
      "s3   Harry   19  91.54     A     Music\n",
      "s4     Sam   20  88.78     A  Painting\n",
      "s5  Monica   22  60.55     B   Dancing\n"
     ]
    },
    {
     "data": {
      "text/plain": [
       "(5, 5)"
      ]
     },
     "execution_count": 109,
     "metadata": {},
     "output_type": "execute_result"
    }
   ],
   "source": [
    "df = pd.DataFrame(doc, columns = c_name, index = idx)\n",
    "print(df)\n",
    "df.shape"
   ]
  },
  {
   "cell_type": "code",
   "execution_count": 108,
   "id": "bf88ba80-d69b-4854-90b9-63704775863e",
   "metadata": {},
   "outputs": [
    {
     "data": {
      "text/html": [
       "<div>\n",
       "<style scoped>\n",
       "    .dataframe tbody tr th:only-of-type {\n",
       "        vertical-align: middle;\n",
       "    }\n",
       "\n",
       "    .dataframe tbody tr th {\n",
       "        vertical-align: top;\n",
       "    }\n",
       "\n",
       "    .dataframe thead th {\n",
       "        text-align: right;\n",
       "    }\n",
       "</style>\n",
       "<table border=\"1\" class=\"dataframe\">\n",
       "  <thead>\n",
       "    <tr style=\"text-align: right;\">\n",
       "      <th></th>\n",
       "      <th>Name</th>\n",
       "      <th>Age</th>\n",
       "      <th>Marks</th>\n",
       "      <th>Grade</th>\n",
       "      <th>Hobby</th>\n",
       "    </tr>\n",
       "  </thead>\n",
       "  <tbody>\n",
       "    <tr>\n",
       "      <th>s1</th>\n",
       "      <td>Joe</td>\n",
       "      <td>20</td>\n",
       "      <td>85.10</td>\n",
       "      <td>A</td>\n",
       "      <td>Swimming</td>\n",
       "    </tr>\n",
       "    <tr>\n",
       "      <th>s2</th>\n",
       "      <td>Nat</td>\n",
       "      <td>21</td>\n",
       "      <td>77.80</td>\n",
       "      <td>B</td>\n",
       "      <td>Reading</td>\n",
       "    </tr>\n",
       "    <tr>\n",
       "      <th>s3</th>\n",
       "      <td>Harry</td>\n",
       "      <td>19</td>\n",
       "      <td>91.54</td>\n",
       "      <td>A</td>\n",
       "      <td>Music</td>\n",
       "    </tr>\n",
       "    <tr>\n",
       "      <th>s4</th>\n",
       "      <td>Sam</td>\n",
       "      <td>20</td>\n",
       "      <td>88.78</td>\n",
       "      <td>A</td>\n",
       "      <td>Painting</td>\n",
       "    </tr>\n",
       "    <tr>\n",
       "      <th>s5</th>\n",
       "      <td>Monica</td>\n",
       "      <td>22</td>\n",
       "      <td>60.55</td>\n",
       "      <td>B</td>\n",
       "      <td>Dancing</td>\n",
       "    </tr>\n",
       "  </tbody>\n",
       "</table>\n",
       "</div>"
      ],
      "text/plain": [
       "      Name  Age  Marks Grade     Hobby\n",
       "s1     Joe   20  85.10     A  Swimming\n",
       "s2     Nat   21  77.80     B   Reading\n",
       "s3   Harry   19  91.54     A     Music\n",
       "s4     Sam   20  88.78     A  Painting\n",
       "s5  Monica   22  60.55     B   Dancing"
      ]
     },
     "execution_count": 110,
     "metadata": {},
     "output_type": "execute_result"
    }
   ],
   "source": [
    "df.head() #데이터중에서 제일 위에 있는 5개의 데이터만 표시하는 함수"
   ]
  },
  {
   "cell_type": "code",
   "execution_count": null,
   "id": "100f0041-2ca8-4698-a419-810380be328b",
   "metadata": {},
   "outputs": [],
   "source": [
    "doc = {'Name' :['Joe','Nat','Harry','Sam','Monica',],\n",
    "        'Age':[20, 21, 19, 20, 22],\n",
    "        'Marks':[85.10, 77.80, 91.54, 88.78, 60.55],\n",
    "        'Grade':['A', 'B', 'A', 'A', 'B',],\n",
    "        'Hobby':['Swmming', 'Reading', 'Music', 'Painting', 'Dancing']}"
   ]
  }
 ],
 "metadata": {
  "kernelspec": {
   "display_name": "flyai",
   "language": "python",
   "name": "flyai"
  },
  "language_info": {
   "codemirror_mode": {
    "name": "ipython",
    "version": 3
   },
   "file_extension": ".py",
   "mimetype": "text/x-python",
   "name": "python",
   "nbconvert_exporter": "python",
   "pygments_lexer": "ipython3",
   "version": "3.9.13"
  }
 },
 "nbformat": 4,
 "nbformat_minor": 5
}
