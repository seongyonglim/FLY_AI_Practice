{
 "cells": [
  {
   "cell_type": "markdown",
   "id": "853fdf13-e9c4-40b6-98ae-0e269a519832",
   "metadata": {},
   "source": [
    "# 선형회귀\n",
    "---"
   ]
  },
  {
   "cell_type": "code",
   "execution_count": 3,
   "id": "8442d026-2b21-4e12-b28c-de2a290734f7",
   "metadata": {},
   "outputs": [],
   "source": [
    "import numpy as np\n",
    "import pandas as pd\n",
    "import matplotlib.pyplot as plt\n",
    "import seaborn as sns\n",
    "import myutils as my"
   ]
  },
  {
   "cell_type": "markdown",
   "id": "3deea7e7-7260-4e10-ac64-67aee5f5c30c",
   "metadata": {},
   "source": [
    "### 데이터 준비"
   ]
  },
  {
   "cell_type": "code",
   "execution_count": 8,
   "id": "02f04005-ae4d-404f-9ed6-ce8c1335f56f",
   "metadata": {},
   "outputs": [],
   "source": [
    "num = 51\n",
    "\n",
    "X = np.linspace(0,10,num)\n",
    "y = X + np.random.normal(1,2,num)"
   ]
  },
  {
   "cell_type": "code",
   "execution_count": 9,
   "id": "3712cee0-dcbb-4db1-a927-aa2b3b0b547e",
   "metadata": {},
   "outputs": [
    {
     "data": {
      "text/plain": [
       "<AxesSubplot:>"
      ]
     },
     "execution_count": 9,
     "metadata": {},
     "output_type": "execute_result"
    },
    {
     "data": {
      "image/png": "[encoded data removed]",
      "text/plain": [
       "<Figure size 640x480 with 1 Axes>"
      ]
     },
     "metadata": {},
     "output_type": "display_data"
    }
   ],
   "source": [
    "sns.scatterplot(x=X, y=y)"
   ]
  },
  {
   "cell_type": "code",
   "execution_count": 25,
   "id": "0dd2b2a8-392d-465f-a9cb-432d22fb7445",
   "metadata": {},
   "outputs": [
    {
     "name": "stdout",
     "output_type": "stream",
     "text": [
      "(40,) (11,)\n"
     ]
    },
    {
     "data": {
      "text/plain": [
       "array([2. , 0.8, 5. , 0. , 6.8])"
      ]
     },
     "execution_count": 25,
     "metadata": {},
     "output_type": "execute_result"
    }
   ],
   "source": [
    "from sklearn.model_selection import train_test_split\n",
    "\n",
    "X_train, X_test,y_train,y_test = train_test_split(X,y,\n",
    "                                                  test_size = 0.2,\n",
    "                                                  random_state=2022)\n",
    "\n",
    "print(X_train.shape,X_test.shape)\n",
    "X_train[:5]"
   ]
  },
  {
   "cell_type": "code",
   "execution_count": 26,
   "id": "ad2614cf-1415-4b2d-bc33-1ba65b8856c0",
   "metadata": {},
   "outputs": [
    {
     "name": "stdout",
     "output_type": "stream",
     "text": [
      "(40, 1)\n"
     ]
    },
    {
     "data": {
      "text/plain": [
       "array([[2. ],\n",
       "       [0.8],\n",
       "       [5. ],\n",
       "       [0. ],\n",
       "       [6.8]])"
      ]
     },
     "execution_count": 26,
     "metadata": {},
     "output_type": "execute_result"
    }
   ],
   "source": [
    "X_train = X_train.reshape(-1,1) #Linear Regression fit 시키기 위해선 X_train을 2차원이상으로 변경해줘야한다.\n",
    "print(X_train.shape)\n",
    "X_train[:5]"
   ]
  },
  {
   "cell_type": "code",
   "execution_count": 73,
   "id": "21390fac-c777-4d63-80a9-89aefe104013",
   "metadata": {},
   "outputs": [
    {
     "data": {
      "text/plain": [
       "LinearRegression()"
      ]
     },
     "execution_count": 73,
     "metadata": {},
     "output_type": "execute_result"
    }
   ],
   "source": [
    "from sklearn.linear_model import LinearRegression\n",
    "\n",
    "lr = LinearRegression()\n",
    "lr.fit(X_train, y_train) #ax+b 를 찾았다는 문장"
   ]
  },
  {
   "cell_type": "code",
   "execution_count": 74,
   "id": "b59bf82a-5756-4e9e-9231-eec77f92c9d4",
   "metadata": {},
   "outputs": [
    {
     "data": {
      "text/plain": [
       "(array([1.04680888]), 0.5244869980489169)"
      ]
     },
     "execution_count": 74,
     "metadata": {},
     "output_type": "execute_result"
    }
   ],
   "source": [
    "lr.coef_,lr.intercept_  # ax+b 에서 lr.coef = a, lr.intercept = b 라고 생각하면 된다"
   ]
  },
  {
   "cell_type": "code",
   "execution_count": 75,
   "id": "f4d657ad-7a4f-4dd6-8442-56612ff8e81e",
   "metadata": {},
   "outputs": [
    {
     "data": {
      "text/plain": [
       "array([2.61810476, 1.3619341 , 5.75853141, 0.524487  , 7.6427874 ])"
      ]
     },
     "execution_count": 75,
     "metadata": {},
     "output_type": "execute_result"
    }
   ],
   "source": [
    "y_pred = lr.predict(X_train) # 선형회귀 학습시킨 lr로부터 값을 예측하여 y_pred에 저장\n",
    "y_pred[:5]"
   ]
  },
  {
   "cell_type": "code",
   "execution_count": 76,
   "id": "d57f3446-9493-4736-ae56-450f7a7f8926",
   "metadata": {},
   "outputs": [
    {
     "data": {
      "image/png": "[encoded data removed]",
      "text/plain": [
       "<Figure size 640x480 with 1 Axes>"
      ]
     },
     "metadata": {},
     "output_type": "display_data"
    }
   ],
   "source": [
    "sns.scatterplot(x=X_train.reshape(-1), y=y_train)\n",
    "plt.plot(X_train.reshape(-1),y_pred,'r') # 예측값을 활용하여 선분 제작\n",
    "plt.show()"
   ]
  },
  {
   "cell_type": "markdown",
   "id": "f6bed6f6-ecb1-4ff7-9e78-1047f29f3712",
   "metadata": {},
   "source": [
    "### 평가"
   ]
  },
  {
   "cell_type": "code",
   "execution_count": 77,
   "id": "95db780f-0f89-49f4-8342-bf46ba35becd",
   "metadata": {},
   "outputs": [
    {
     "data": {
      "text/plain": [
       "3.949952505808753"
      ]
     },
     "execution_count": 77,
     "metadata": {},
     "output_type": "execute_result"
    }
   ],
   "source": [
    "from sklearn.metrics import mean_squared_error #오차 제곱의 평균\n",
    "\n",
    "# MSE(Mean Squared Error) 값 측정 (당연하지만 오차값이기 때문에 값이 0에 수렴할수록 좋다)\n",
    "mse = mean_squared_error(y_train, y_pred) #실제 정답과 예측값에 대한 mse 계산\n",
    "mse"
   ]
  },
  {
   "cell_type": "code",
   "execution_count": 78,
   "id": "b4173338-b7b6-4b4b-9095-37da257d23cc",
   "metadata": {},
   "outputs": [
    {
     "data": {
      "text/plain": [
       "1.9874487429387337"
      ]
     },
     "execution_count": 78,
     "metadata": {},
     "output_type": "execute_result"
    }
   ],
   "source": [
    "# RMSE (Root Mean Squared Error) 선형회귀 분석을 하고나면 정확도 측정을 위해 기본적으로 이 값을 보도록 하자.\n",
    "\n",
    "rmse = np.sqrt(mse)\n",
    "rmse"
   ]
  },
  {
   "cell_type": "code",
   "execution_count": 81,
   "id": "965d991e-41a9-4bf7-bad8-6733c6e44dc6",
   "metadata": {},
   "outputs": [
    {
     "data": {
      "text/plain": [
       "1.6491658087371348"
      ]
     },
     "execution_count": 81,
     "metadata": {},
     "output_type": "execute_result"
    }
   ],
   "source": [
    "# MAE\n",
    "from sklearn.metrics import mean_absolute_error\n",
    "\n",
    "mean_absolute_error(y_train,y_pred)"
   ]
  },
  {
   "cell_type": "markdown",
   "id": "a2f4a214-d57f-41ca-9c5a-7fef53cb6ec5",
   "metadata": {},
   "source": [
    "### 테스트"
   ]
  },
  {
   "cell_type": "code",
   "execution_count": 67,
   "id": "dccc7778-7013-4a60-a894-f31ab4db0b39",
   "metadata": {},
   "outputs": [
    {
     "data": {
      "text/plain": [
       "array([10.99257583,  8.48023451,  9.52704339,  1.15257233,  2.40874299,\n",
       "        1.78065766,  7.85214918,  9.31768162,  1.99001943, 10.78321405,\n",
       "        4.71172253])"
      ]
     },
     "execution_count": 67,
     "metadata": {},
     "output_type": "execute_result"
    }
   ],
   "source": [
    "y_pred = lr.predict(X_test.reshape(-1,1))\n",
    "y_pred"
   ]
  },
  {
   "cell_type": "code",
   "execution_count": 68,
   "id": "f903e260-39af-4ec9-b7f7-007488c42c91",
   "metadata": {},
   "outputs": [
    {
     "data": {
      "text/plain": [
       "2.363270836774842"
      ]
     },
     "execution_count": 68,
     "metadata": {},
     "output_type": "execute_result"
    }
   ],
   "source": [
    "np.sqrt(mean_squared_error(y_test, y_pred))"
   ]
  },
  {
   "cell_type": "code",
   "execution_count": 69,
   "id": "da91f076-c989-4f78-818c-788c38c87b81",
   "metadata": {},
   "outputs": [
    {
     "data": {
      "text/plain": [
       "[<matplotlib.lines.Line2D at 0x1684b9e89d0>]"
      ]
     },
     "execution_count": 69,
     "metadata": {},
     "output_type": "execute_result"
    },
    {
     "data": {
      "image/png": "[encoded data removed]",
      "text/plain": [
       "<Figure size 640x480 with 1 Axes>"
      ]
     },
     "metadata": {},
     "output_type": "display_data"
    }
   ],
   "source": [
    "# 시각화\n",
    "\n",
    "plt.scatter(y_test,y_pred) # 예측치와 정답과 일치하려면 y=x 선분에 정확히 위치해있어야된다\n",
    "plt.plot([0,12],[0,12],'r') #y=x선분을 그려서 확인해봤으나 생각보다 그렇게 잘 맞춘 느낌은 아니다."
   ]
  },
  {
   "cell_type": "code",
   "execution_count": null,
   "id": "5c6cf315-d868-45f4-988a-6c41a59e3af2",
   "metadata": {},
   "outputs": [],
   "source": []
  }
 ],
 "metadata": {
  "kernelspec": {
   "display_name": "flyai",
   "language": "python",
   "name": "flyai"
  },
  "language_info": {
   "codemirror_mode": {
    "name": "ipython",
    "version": 3
   },
   "file_extension": ".py",
   "mimetype": "text/x-python",
   "name": "python",
   "nbconvert_exporter": "python",
   "pygments_lexer": "ipython3",
   "version": "3.9.13"
  }
 },
 "nbformat": 4,
 "nbformat_minor": 5
}
