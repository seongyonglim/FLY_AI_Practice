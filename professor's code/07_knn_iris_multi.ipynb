{
 "cells": [
  {
   "cell_type": "markdown",
   "id": "05297ad2-6752-4c5a-98aa-2c757f6cab98",
   "metadata": {},
   "source": [
    "# KNN iris 다중분류 (Multiclass Classification)\n",
    "---"
   ]
  },
  {
   "cell_type": "code",
   "execution_count": 20,
   "id": "da86d267-725a-4484-a964-e7df5c18d611",
   "metadata": {},
   "outputs": [],
   "source": [
    "import numpy as np\n",
    "import pandas as pd\n",
    "import matplotlib.pyplot as plt\n",
    "import seaborn as sns\n",
    "from sklearn.utils import shuffle "
   ]
  },
  {
   "cell_type": "code",
   "execution_count": 21,
   "id": "a2119186-85ef-4e29-81b4-6c542110e2b3",
   "metadata": {},
   "outputs": [],
   "source": [
    "import warnings\n",
    "\n",
    "warnings.filterwarnings('ignore')\n"
   ]
  },
  {
   "cell_type": "code",
   "execution_count": 22,
   "id": "8814af7f-af79-4ca8-b07b-8070b2d49011",
   "metadata": {},
   "outputs": [],
   "source": [
    "def get_iris(mode=None):\n",
    "    iris = pd.read_csv('iris.csv')\n",
    "    df = iris.drop(['Id'], axis=1).copy()\n",
    "    df.columns = ['sepal_length', 'sepal_width', 'petal_length', 'petal_width', 'species']\n",
    "    \n",
    "    if(mode == 'bin'):\n",
    "        df = df.loc[df['species'] != 'Iris-virginica']\n",
    "        \n",
    "    df['species']= df['species'].map({\n",
    "        'Iris-setosa':0,\n",
    "        'Iris-versicolor':1,\n",
    "        'Iris-virginica':2\n",
    "    })\n",
    "    X = df.drop(['species'], axis=1)\n",
    "    y= df['species']\n",
    "\n",
    "    X, y = shuffle(X, y, random_state=2022)\n",
    "    num = int(len(y)*0.8)\n",
    "    \n",
    "    X_train = X.iloc[:num,:]    \n",
    "    X_test = X.iloc[num:,:]      \n",
    "    y_train = y.iloc[:num]        \n",
    "    y_test  = y.iloc[num:]       \n",
    "    \n",
    "    for col in X_train.columns:\n",
    "        mu = X_train[col].mean()\n",
    "        std = X_train[col].std()\n",
    "        X_train[col] = (X_train[col] - mu)/std\n",
    "        X_test[col] = (X_test[col] - mu)/std\n",
    "\n",
    "    return X_train, X_test, y_train, y_test"
   ]
  },
  {
   "cell_type": "code",
   "execution_count": 23,
   "id": "4ecf1920-81d7-48b5-bc41-18248507298d",
   "metadata": {},
   "outputs": [
    {
     "name": "stdout",
     "output_type": "stream",
     "text": [
      "(120, 4) (30, 4)\n",
      "(120,) (30,)\n"
     ]
    }
   ],
   "source": [
    "X_train, X_test, y_train, y_test = get_iris()\n",
    "\n",
    "print(X_train.shape, X_test.shape)\n",
    "print(y_train.shape, y_test.shape)"
   ]
  },
  {
   "cell_type": "code",
   "execution_count": 24,
   "id": "2f0ab7b5-0efa-42f1-ab0c-24c4507e691d",
   "metadata": {},
   "outputs": [],
   "source": [
    "X_train = X_train.values\n",
    "X_test = X_test.values\n",
    "y_train = y_train.values\n",
    "y_test = y_test.values"
   ]
  },
  {
   "cell_type": "markdown",
   "id": "e3d541cd-7e00-4a8d-ba54-7173ab293da0",
   "metadata": {},
   "source": [
    "### 학습"
   ]
  },
  {
   "cell_type": "code",
   "execution_count": 25,
   "id": "3f2cacbc-3498-46ce-9bbb-8b37f2eb18d4",
   "metadata": {},
   "outputs": [],
   "source": [
    "from sklearn.neighbors import KNeighborsClassifier\n",
    "scores = []\n",
    "\n",
    "for i in range(3, 30):\n",
    "    clf = KNeighborsClassifier(n_neighbors=i)\n",
    "    clf.fit(X_train, y_train)\n",
    "    s = clf.score(X_train, y_train)\n",
    "    scores.append(s)"
   ]
  },
  {
   "cell_type": "code",
   "execution_count": 26,
   "id": "353094eb-ed58-474c-a92e-fdb752ce58b7",
   "metadata": {},
   "outputs": [
    {
     "data": {
      "image/png": "[encoded data removed]",
      "text/plain": [
       "<Figure size 640x480 with 1 Axes>"
      ]
     },
     "metadata": {},
     "output_type": "display_data"
    }
   ],
   "source": [
    "plt.plot(np.arange(3, 30), scores)\n",
    "plt.show()"
   ]
  },
  {
   "cell_type": "markdown",
   "id": "94b57106-deb9-46de-9bdc-7d5ad048715f",
   "metadata": {},
   "source": [
    "### 최종 "
   ]
  },
  {
   "cell_type": "code",
   "execution_count": 27,
   "id": "64ec5736-eaef-403d-ba55-4f9201c78a99",
   "metadata": {},
   "outputs": [
    {
     "data": {
      "text/plain": [
       "KNeighborsClassifier()"
      ]
     },
     "execution_count": 27,
     "metadata": {},
     "output_type": "execute_result"
    }
   ],
   "source": [
    "clf = KNeighborsClassifier(n_neighbors=5)\n",
    "clf.fit(X_train, y_train)\n"
   ]
  },
  {
   "cell_type": "markdown",
   "id": "5141c82f-e30a-4b37-a7c3-ed18904003bc",
   "metadata": {},
   "source": [
    "### 예측"
   ]
  },
  {
   "cell_type": "code",
   "execution_count": 29,
   "id": "721df1c6-c8bb-489b-b496-1ad46e051ba7",
   "metadata": {},
   "outputs": [
    {
     "data": {
      "text/plain": [
       "array([0, 2, 2, 2, 1, 2, 0, 1, 1, 1, 0, 2, 1, 0, 1, 2, 0, 1, 2, 0, 0, 0,\n",
       "       0, 1, 2, 0, 0, 1, 2, 2], dtype=int64)"
      ]
     },
     "execution_count": 29,
     "metadata": {},
     "output_type": "execute_result"
    }
   ],
   "source": [
    "y_pred = clf.predict(X_test)\n",
    "y_pred"
   ]
  },
  {
   "cell_type": "code",
   "execution_count": 35,
   "id": "0ded68af-697d-4f33-9841-ed4528308cfd",
   "metadata": {},
   "outputs": [],
   "source": [
    "from sklearn.metrics import accuracy_score, precision_score, recall_score\n",
    "\n",
    "def print_score(y_true, y_pred, average='binary'):\n",
    "    acc = accuracy_score(y_true, y_pred)\n",
    "    pre = precision_score(y_true, y_pred, average=average)\n",
    "    rec = recall_score(y_true, y_pred, average=average)\n",
    "\n",
    "    print('accuraccy:', acc)\n",
    "    print('precision:', pre)\n",
    "    print('recall:', rec)"
   ]
  },
  {
   "cell_type": "code",
   "execution_count": 36,
   "id": "216bf025-fb92-4874-acba-0ff943ac62ac",
   "metadata": {},
   "outputs": [
    {
     "name": "stdout",
     "output_type": "stream",
     "text": [
      "accuraccy: 0.9333333333333333\n",
      "precision: 0.9333333333333332\n",
      "recall: 0.9393939393939394\n"
     ]
    }
   ],
   "source": [
    "print_score(y_test, y_pred, average='macro')"
   ]
  },
  {
   "cell_type": "code",
   "execution_count": null,
   "id": "48a2f615-29d7-4c4b-98e9-c9b2b0370ba9",
   "metadata": {},
   "outputs": [],
   "source": []
  }
 ],
 "metadata": {
  "kernelspec": {
   "display_name": "flyai",
   "language": "python",
   "name": "flyai"
  },
  "language_info": {
   "codemirror_mode": {
    "name": "ipython",
    "version": 3
   },
   "file_extension": ".py",
   "mimetype": "text/x-python",
   "name": "python",
   "nbconvert_exporter": "python",
   "pygments_lexer": "ipython3",
   "version": "3.9.13"
  }
 },
 "nbformat": 4,
 "nbformat_minor": 5
}
