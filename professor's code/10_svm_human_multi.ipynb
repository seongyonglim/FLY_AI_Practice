{
 "cells": [
  {
   "cell_type": "markdown",
   "id": "42915921-a5cb-4537-b930-78abaf9a413a",
   "metadata": {},
   "source": [
    "# Human Activity Recognition\n",
    "---"
   ]
  },
  {
   "cell_type": "code",
   "execution_count": 1,
   "id": "335075ed-d3ac-44a3-9cbd-7cb7bd0936ac",
   "metadata": {},
   "outputs": [
    {
     "name": "stderr",
     "output_type": "stream",
     "text": [
      "Downloading...\n",
      "From: https://drive.google.com/uc?id=1ypa5iZ1dLDO-zGRO_yDXrJnMvjRGUG4v\n",
      "To: C:\\Users\\019\\workspace\\flyai\\P\\HumanActivityRecognition.zip\n",
      "\n",
      "  0%|          | 0.00/25.7M [00:00<?, ?B/s]\n",
      "  2%|2         | 524k/25.7M [00:00<00:08, 2.84MB/s]\n",
      "  6%|6         | 1.57M/25.7M [00:00<00:03, 6.04MB/s]\n",
      " 14%|#4        | 3.67M/25.7M [00:00<00:02, 9.92MB/s]\n",
      " 24%|##4       | 6.29M/25.7M [00:00<00:01, 13.3MB/s]\n",
      " 33%|###2      | 8.39M/25.7M [00:00<00:01, 15.2MB/s]\n",
      " 41%|####      | 10.5M/25.7M [00:00<00:01, 15.0MB/s]\n",
      " 47%|####6     | 12.1M/25.7M [00:00<00:01, 13.1MB/s]\n",
      " 55%|#####5    | 14.2M/25.7M [00:01<00:01, 11.4MB/s]\n",
      " 73%|#######3  | 18.9M/25.7M [00:01<00:00, 18.2MB/s]\n",
      " 82%|########1 | 21.0M/25.7M [00:01<00:00, 10.1MB/s]\n",
      " 90%|########9 | 23.1M/25.7M [00:02<00:00, 9.38MB/s]\n",
      " 96%|#########5| 24.6M/25.7M [00:02<00:00, 9.23MB/s]\n",
      "100%|##########| 25.7M/25.7M [00:02<00:00, 11.2MB/s]\n"
     ]
    }
   ],
   "source": [
    "# !gdown https://drive.google.com/uc?id=1ypa5iZ1dLDO-zGRO_yDXrJnMvjRGUG4v"
   ]
  },
  {
   "cell_type": "code",
   "execution_count": 3,
   "id": "a748f969-4e61-4f10-88ae-f899584c75fd",
   "metadata": {},
   "outputs": [],
   "source": [
    "import numpy as np\n",
    "import pandas as pd"
   ]
  },
  {
   "cell_type": "code",
   "execution_count": 4,
   "id": "4e3e6872-970d-4714-a598-862cbf239040",
   "metadata": {},
   "outputs": [
    {
     "data": {
      "text/plain": [
       "(7352, 563)"
      ]
     },
     "execution_count": 4,
     "metadata": {},
     "output_type": "execute_result"
    }
   ],
   "source": [
    "human = pd.read_csv('./HumanActivityRecognition/train.csv')\n",
    "human.shape"
   ]
  },
  {
   "cell_type": "markdown",
   "id": "12d717aa-ca14-474a-82b1-bb70fb09be71",
   "metadata": {},
   "source": [
    "### 데이터 준비\n",
    "- 결측치 \n",
    "- 중복치 \n",
    "- X, y 분리\n",
    "- y값 유니크값 : 레이블 몇개짜리인지..\n",
    "- y값 인코딩\n",
    "\n",
    "- 정규화 (표준화)\n",
    "- GridSearchCV : 베스트 모델 찾기\n",
    "- 테스트 파일 읽어서, score 계산하기 "
   ]
  },
  {
   "cell_type": "code",
   "execution_count": null,
   "id": "5e1d74b4-568c-481a-ac70-6d94c69ca5da",
   "metadata": {},
   "outputs": [],
   "source": []
  }
 ],
 "metadata": {
  "kernelspec": {
   "display_name": "flyai",
   "language": "python",
   "name": "flyai"
  },
  "language_info": {
   "codemirror_mode": {
    "name": "ipython",
    "version": 3
   },
   "file_extension": ".py",
   "mimetype": "text/x-python",
   "name": "python",
   "nbconvert_exporter": "python",
   "pygments_lexer": "ipython3",
   "version": "3.9.13"
  }
 },
 "nbformat": 4,
 "nbformat_minor": 5
}
