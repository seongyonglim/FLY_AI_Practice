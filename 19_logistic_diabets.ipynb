{
 "cells": [
  {
   "cell_type": "markdown",
   "id": "fbad329d-0b65-4305-a3b6-5bfcd42c4683",
   "metadata": {},
   "source": [
    "# 피마 인디언 당뇨병 (Pima Indians Diabetes Dataset)\n",
    "---"
   ]
  },
  {
   "cell_type": "code",
   "execution_count": 1,
   "id": "971d9f3c-98af-4ed5-a039-240a8934cf22",
   "metadata": {},
   "outputs": [],
   "source": [
    "import numpy as np\n",
    "import pandas as pd\n",
    "import matplotlib.pyplot as plt\n",
    "import seaborn as sns\n",
    "import myutils as my"
   ]
  },
  {
   "cell_type": "markdown",
   "id": "2c7ca26c-8ce9-4091-95c5-b0a43a5c6ac0",
   "metadata": {},
   "source": [
    "### 데이터 준비"
   ]
  },
  {
   "cell_type": "code",
<<<<<<< HEAD
   "execution_count": 2,
=======
   "execution_count": 3,
>>>>>>> 7892e80ed04f959e7c7449626210d0996258cff2
   "id": "f1053c96-5f72-4f78-9a40-073c825ad39c",
   "metadata": {},
   "outputs": [],
   "source": [
    "# !gdown https://raw.githubusercontent.com/devdio/datasets/main/diabetes.csv"
   ]
  },
  {
   "cell_type": "code",
<<<<<<< HEAD
   "execution_count": 3,
=======
   "execution_count": 7,
>>>>>>> 7892e80ed04f959e7c7449626210d0996258cff2
   "id": "5ffe49ec-1e48-4f24-87dd-b8ba699e1b03",
   "metadata": {},
   "outputs": [
    {
     "data": {
      "text/plain": [
       "(768, 9)"
      ]
     },
<<<<<<< HEAD
     "execution_count": 3,
=======
     "execution_count": 7,
>>>>>>> 7892e80ed04f959e7c7449626210d0996258cff2
     "metadata": {},
     "output_type": "execute_result"
    }
   ],
   "source": [
    "diabetes = pd.read_csv('./diabetes.csv')\n",
    "diabetes.shape"
   ]
  },
  {
   "cell_type": "code",
<<<<<<< HEAD
   "execution_count": 4,
=======
   "execution_count": 13,
>>>>>>> 7892e80ed04f959e7c7449626210d0996258cff2
   "id": "0af2d7e6-3e51-4faf-8c55-05584af5304a",
   "metadata": {},
   "outputs": [],
   "source": [
    "diabetes.columns = diabetes.columns.str.lower()"
   ]
  },
  {
   "cell_type": "code",
<<<<<<< HEAD
   "execution_count": 5,
=======
   "execution_count": 14,
>>>>>>> 7892e80ed04f959e7c7449626210d0996258cff2
   "id": "a2db52a5-5f27-432c-bc8c-9fd8017e6cee",
   "metadata": {},
   "outputs": [
    {
     "data": {
      "text/html": [
       "<div>\n",
       "<style scoped>\n",
       "    .dataframe tbody tr th:only-of-type {\n",
       "        vertical-align: middle;\n",
       "    }\n",
       "\n",
       "    .dataframe tbody tr th {\n",
       "        vertical-align: top;\n",
       "    }\n",
       "\n",
       "    .dataframe thead th {\n",
       "        text-align: right;\n",
       "    }\n",
       "</style>\n",
       "<table border=\"1\" class=\"dataframe\">\n",
       "  <thead>\n",
       "    <tr style=\"text-align: right;\">\n",
       "      <th></th>\n",
       "      <th>pregnancies</th>\n",
       "      <th>glucose</th>\n",
       "      <th>bloodpressure</th>\n",
       "      <th>skinthickness</th>\n",
       "      <th>insulin</th>\n",
       "      <th>bmi</th>\n",
       "      <th>diabetespedigreefunction</th>\n",
       "      <th>age</th>\n",
       "      <th>outcome</th>\n",
       "    </tr>\n",
       "  </thead>\n",
       "  <tbody>\n",
       "    <tr>\n",
       "      <th>0</th>\n",
       "      <td>6</td>\n",
       "      <td>148</td>\n",
       "      <td>72</td>\n",
       "      <td>35</td>\n",
       "      <td>0</td>\n",
       "      <td>33.6</td>\n",
       "      <td>0.627</td>\n",
       "      <td>50</td>\n",
       "      <td>1</td>\n",
       "    </tr>\n",
       "    <tr>\n",
       "      <th>1</th>\n",
       "      <td>1</td>\n",
       "      <td>85</td>\n",
       "      <td>66</td>\n",
       "      <td>29</td>\n",
       "      <td>0</td>\n",
       "      <td>26.6</td>\n",
       "      <td>0.351</td>\n",
       "      <td>31</td>\n",
       "      <td>0</td>\n",
       "    </tr>\n",
       "    <tr>\n",
       "      <th>2</th>\n",
       "      <td>8</td>\n",
       "      <td>183</td>\n",
       "      <td>64</td>\n",
       "      <td>0</td>\n",
       "      <td>0</td>\n",
       "      <td>23.3</td>\n",
       "      <td>0.672</td>\n",
       "      <td>32</td>\n",
       "      <td>1</td>\n",
       "    </tr>\n",
       "    <tr>\n",
       "      <th>3</th>\n",
       "      <td>1</td>\n",
       "      <td>89</td>\n",
       "      <td>66</td>\n",
       "      <td>23</td>\n",
       "      <td>94</td>\n",
       "      <td>28.1</td>\n",
       "      <td>0.167</td>\n",
       "      <td>21</td>\n",
       "      <td>0</td>\n",
       "    </tr>\n",
       "    <tr>\n",
       "      <th>4</th>\n",
       "      <td>0</td>\n",
       "      <td>137</td>\n",
       "      <td>40</td>\n",
       "      <td>35</td>\n",
       "      <td>168</td>\n",
       "      <td>43.1</td>\n",
       "      <td>2.288</td>\n",
       "      <td>33</td>\n",
       "      <td>1</td>\n",
       "    </tr>\n",
       "  </tbody>\n",
       "</table>\n",
       "</div>"
      ],
      "text/plain": [
       "   pregnancies  glucose  bloodpressure  skinthickness  insulin   bmi  \\\n",
       "0            6      148             72             35        0  33.6   \n",
       "1            1       85             66             29        0  26.6   \n",
       "2            8      183             64              0        0  23.3   \n",
       "3            1       89             66             23       94  28.1   \n",
       "4            0      137             40             35      168  43.1   \n",
       "\n",
       "   diabetespedigreefunction  age  outcome  \n",
       "0                     0.627   50        1  \n",
       "1                     0.351   31        0  \n",
       "2                     0.672   32        1  \n",
       "3                     0.167   21        0  \n",
       "4                     2.288   33        1  "
      ]
     },
<<<<<<< HEAD
     "execution_count": 5,
=======
     "execution_count": 14,
>>>>>>> 7892e80ed04f959e7c7449626210d0996258cff2
     "metadata": {},
     "output_type": "execute_result"
    }
   ],
   "source": [
    "diabetes.head() #확인하면 insulin 이나 skinthickness 값들이 0으로 설정 돼있는데 결측치를 0으로 표기했다고 생각하면 된다. 추후 정확한 분석을 위해 수정을 하면 좋다."
   ]
  },
  {
   "cell_type": "code",
<<<<<<< HEAD
   "execution_count": 6,
=======
   "execution_count": 16,
>>>>>>> 7892e80ed04f959e7c7449626210d0996258cff2
   "id": "ec1e13a1-bf02-4c05-a2f5-79d436c4be12",
   "metadata": {},
   "outputs": [
    {
     "data": {
      "text/plain": [
       "1     135\n",
       "0     111\n",
       "2     103\n",
       "3      75\n",
       "4      68\n",
       "5      57\n",
       "6      50\n",
       "7      45\n",
       "8      38\n",
       "9      28\n",
       "10     24\n",
       "11     11\n",
       "13     10\n",
       "12      9\n",
       "14      2\n",
       "15      1\n",
       "17      1\n",
       "Name: pregnancies, dtype: int64"
      ]
     },
<<<<<<< HEAD
     "execution_count": 6,
=======
     "execution_count": 16,
>>>>>>> 7892e80ed04f959e7c7449626210d0996258cff2
     "metadata": {},
     "output_type": "execute_result"
    }
   ],
   "source": [
    "diabetes['pregnancies'].value_counts()"
   ]
  },
  {
   "cell_type": "markdown",
   "id": "f4459fdd-edf1-45ec-8683-04dee9a7d27a",
   "metadata": {},
   "source": [
    "### 이상치 확인"
   ]
  },
  {
   "cell_type": "code",
<<<<<<< HEAD
   "execution_count": 7,
=======
   "execution_count": 18,
>>>>>>> 7892e80ed04f959e7c7449626210d0996258cff2
   "id": "f4041de2-f998-4b70-8d26-cdf1eb5e7d79",
   "metadata": {},
   "outputs": [],
   "source": [
    "def iszero(x):\n",
    "    return x == 0"
   ]
  },
  {
   "cell_type": "code",
<<<<<<< HEAD
   "execution_count": 8,
=======
   "execution_count": 21,
>>>>>>> 7892e80ed04f959e7c7449626210d0996258cff2
   "id": "a9424b9b-40a7-48b2-aefe-b52091149c35",
   "metadata": {},
   "outputs": [
    {
     "data": {
      "text/plain": [
       "pregnancies                 111\n",
       "glucose                       5\n",
       "bloodpressure                35\n",
       "skinthickness               227\n",
       "insulin                     374\n",
       "bmi                          11\n",
       "diabetespedigreefunction      0\n",
       "age                           0\n",
       "outcome                     500\n",
       "dtype: int64"
      ]
     },
<<<<<<< HEAD
     "execution_count": 8,
=======
     "execution_count": 21,
>>>>>>> 7892e80ed04f959e7c7449626210d0996258cff2
     "metadata": {},
     "output_type": "execute_result"
    }
   ],
   "source": [
    "diabetes.apply(iszero).sum(axis=0) # .apply(iszero) == 0인 값엔 True, 아닌 곳은 False로 바꾸는 효과, .sum(axis=0) 을 붙임으로써 각 열에 0인 값인 행의 개수를 보여준다\n",
    "#보면 glucose~bmi까지의 0은 말이 안되는데 존재하는 모습"
   ]
  },
  {
   "cell_type": "code",
<<<<<<< HEAD
   "execution_count": 9,
=======
   "execution_count": 47,
>>>>>>> 7892e80ed04f959e7c7449626210d0996258cff2
   "id": "d7008245-4460-4084-b571-80db61515726",
   "metadata": {},
   "outputs": [],
   "source": [
    "#이상치를 NaN 결측치로 변경. 이렇게 하는 이유는 isna(), dropna(), fillna()로 쉽게 결측치를 확인, 드랍, 변경 가능하다\n",
    "df = diabetes.copy()"
   ]
  },
  {
   "cell_type": "code",
<<<<<<< HEAD
   "execution_count": 10,
=======
   "execution_count": 48,
>>>>>>> 7892e80ed04f959e7c7449626210d0996258cff2
   "id": "6d221a0c-3f9f-4c2e-baf1-0e1e0e2aee84",
   "metadata": {},
   "outputs": [
    {
     "data": {
      "text/html": [
       "<div>\n",
       "<style scoped>\n",
       "    .dataframe tbody tr th:only-of-type {\n",
       "        vertical-align: middle;\n",
       "    }\n",
       "\n",
       "    .dataframe tbody tr th {\n",
       "        vertical-align: top;\n",
       "    }\n",
       "\n",
       "    .dataframe thead th {\n",
       "        text-align: right;\n",
       "    }\n",
       "</style>\n",
       "<table border=\"1\" class=\"dataframe\">\n",
       "  <thead>\n",
       "    <tr style=\"text-align: right;\">\n",
       "      <th></th>\n",
       "      <th>pregnancies</th>\n",
       "      <th>glucose</th>\n",
       "      <th>bloodpressure</th>\n",
       "      <th>skinthickness</th>\n",
       "      <th>insulin</th>\n",
       "      <th>bmi</th>\n",
       "      <th>diabetespedigreefunction</th>\n",
       "      <th>age</th>\n",
       "      <th>outcome</th>\n",
       "    </tr>\n",
       "  </thead>\n",
       "  <tbody>\n",
       "    <tr>\n",
       "      <th>75</th>\n",
       "      <td>1</td>\n",
       "      <td>0</td>\n",
       "      <td>48</td>\n",
       "      <td>20</td>\n",
       "      <td>0</td>\n",
       "      <td>24.7</td>\n",
       "      <td>0.140</td>\n",
       "      <td>22</td>\n",
       "      <td>0</td>\n",
       "    </tr>\n",
       "    <tr>\n",
       "      <th>182</th>\n",
       "      <td>1</td>\n",
       "      <td>0</td>\n",
       "      <td>74</td>\n",
       "      <td>20</td>\n",
       "      <td>23</td>\n",
       "      <td>27.7</td>\n",
       "      <td>0.299</td>\n",
       "      <td>21</td>\n",
       "      <td>0</td>\n",
       "    </tr>\n",
       "    <tr>\n",
       "      <th>342</th>\n",
       "      <td>1</td>\n",
       "      <td>0</td>\n",
       "      <td>68</td>\n",
       "      <td>35</td>\n",
       "      <td>0</td>\n",
       "      <td>32.0</td>\n",
       "      <td>0.389</td>\n",
       "      <td>22</td>\n",
       "      <td>0</td>\n",
       "    </tr>\n",
       "    <tr>\n",
       "      <th>349</th>\n",
       "      <td>5</td>\n",
       "      <td>0</td>\n",
       "      <td>80</td>\n",
       "      <td>32</td>\n",
       "      <td>0</td>\n",
       "      <td>41.0</td>\n",
       "      <td>0.346</td>\n",
       "      <td>37</td>\n",
       "      <td>1</td>\n",
       "    </tr>\n",
       "    <tr>\n",
       "      <th>502</th>\n",
       "      <td>6</td>\n",
       "      <td>0</td>\n",
       "      <td>68</td>\n",
       "      <td>41</td>\n",
       "      <td>0</td>\n",
       "      <td>39.0</td>\n",
       "      <td>0.727</td>\n",
       "      <td>41</td>\n",
       "      <td>1</td>\n",
       "    </tr>\n",
       "  </tbody>\n",
       "</table>\n",
       "</div>"
      ],
      "text/plain": [
       "     pregnancies  glucose  bloodpressure  skinthickness  insulin   bmi  \\\n",
       "75             1        0             48             20        0  24.7   \n",
       "182            1        0             74             20       23  27.7   \n",
       "342            1        0             68             35        0  32.0   \n",
       "349            5        0             80             32        0  41.0   \n",
       "502            6        0             68             41        0  39.0   \n",
       "\n",
       "     diabetespedigreefunction  age  outcome  \n",
       "75                      0.140   22        0  \n",
       "182                     0.299   21        0  \n",
       "342                     0.389   22        0  \n",
       "349                     0.346   37        1  \n",
       "502                     0.727   41        1  "
      ]
     },
<<<<<<< HEAD
     "execution_count": 10,
=======
     "execution_count": 48,
>>>>>>> 7892e80ed04f959e7c7449626210d0996258cff2
     "metadata": {},
     "output_type": "execute_result"
    }
   ],
   "source": [
    "df.loc[df['glucose']==0] #글루코스파트 0인 행 전부 출력"
   ]
  },
  {
   "cell_type": "code",
<<<<<<< HEAD
   "execution_count": 11,
=======
   "execution_count": 49,
>>>>>>> 7892e80ed04f959e7c7449626210d0996258cff2
   "id": "b958e421-c18f-4258-8870-aeeeadb98787",
   "metadata": {},
   "outputs": [
    {
     "data": {
      "text/html": [
       "<div>\n",
       "<style scoped>\n",
       "    .dataframe tbody tr th:only-of-type {\n",
       "        vertical-align: middle;\n",
       "    }\n",
       "\n",
       "    .dataframe tbody tr th {\n",
       "        vertical-align: top;\n",
       "    }\n",
       "\n",
       "    .dataframe thead th {\n",
       "        text-align: right;\n",
       "    }\n",
       "</style>\n",
       "<table border=\"1\" class=\"dataframe\">\n",
       "  <thead>\n",
       "    <tr style=\"text-align: right;\">\n",
       "      <th></th>\n",
       "      <th>pregnancies</th>\n",
       "      <th>glucose</th>\n",
       "      <th>bloodpressure</th>\n",
       "      <th>skinthickness</th>\n",
       "      <th>insulin</th>\n",
       "      <th>bmi</th>\n",
       "      <th>diabetespedigreefunction</th>\n",
       "      <th>age</th>\n",
       "      <th>outcome</th>\n",
       "    </tr>\n",
       "  </thead>\n",
       "  <tbody>\n",
       "    <tr>\n",
       "      <th>0</th>\n",
       "      <td>6</td>\n",
       "      <td>148.0</td>\n",
       "      <td>72.0</td>\n",
       "      <td>35.0</td>\n",
       "      <td>NaN</td>\n",
       "      <td>33.6</td>\n",
       "      <td>0.627</td>\n",
       "      <td>50</td>\n",
       "      <td>1</td>\n",
       "    </tr>\n",
       "    <tr>\n",
       "      <th>1</th>\n",
       "      <td>1</td>\n",
       "      <td>85.0</td>\n",
       "      <td>66.0</td>\n",
       "      <td>29.0</td>\n",
       "      <td>NaN</td>\n",
       "      <td>26.6</td>\n",
       "      <td>0.351</td>\n",
       "      <td>31</td>\n",
       "      <td>0</td>\n",
       "    </tr>\n",
       "    <tr>\n",
       "      <th>2</th>\n",
       "      <td>8</td>\n",
       "      <td>183.0</td>\n",
       "      <td>64.0</td>\n",
       "      <td>NaN</td>\n",
       "      <td>NaN</td>\n",
       "      <td>23.3</td>\n",
       "      <td>0.672</td>\n",
       "      <td>32</td>\n",
       "      <td>1</td>\n",
       "    </tr>\n",
       "    <tr>\n",
       "      <th>3</th>\n",
       "      <td>1</td>\n",
       "      <td>89.0</td>\n",
       "      <td>66.0</td>\n",
       "      <td>23.0</td>\n",
       "      <td>94.0</td>\n",
       "      <td>28.1</td>\n",
       "      <td>0.167</td>\n",
       "      <td>21</td>\n",
       "      <td>0</td>\n",
       "    </tr>\n",
       "    <tr>\n",
       "      <th>4</th>\n",
       "      <td>0</td>\n",
       "      <td>137.0</td>\n",
       "      <td>40.0</td>\n",
       "      <td>35.0</td>\n",
       "      <td>168.0</td>\n",
       "      <td>43.1</td>\n",
       "      <td>2.288</td>\n",
       "      <td>33</td>\n",
       "      <td>1</td>\n",
       "    </tr>\n",
       "  </tbody>\n",
       "</table>\n",
       "</div>"
      ],
      "text/plain": [
       "   pregnancies  glucose  bloodpressure  skinthickness  insulin   bmi  \\\n",
       "0            6    148.0           72.0           35.0      NaN  33.6   \n",
       "1            1     85.0           66.0           29.0      NaN  26.6   \n",
       "2            8    183.0           64.0            NaN      NaN  23.3   \n",
       "3            1     89.0           66.0           23.0     94.0  28.1   \n",
       "4            0    137.0           40.0           35.0    168.0  43.1   \n",
       "\n",
       "   diabetespedigreefunction  age  outcome  \n",
       "0                     0.627   50        1  \n",
       "1                     0.351   31        0  \n",
       "2                     0.672   32        1  \n",
       "3                     0.167   21        0  \n",
       "4                     2.288   33        1  "
      ]
     },
<<<<<<< HEAD
     "execution_count": 11,
=======
     "execution_count": 49,
>>>>>>> 7892e80ed04f959e7c7449626210d0996258cff2
     "metadata": {},
     "output_type": "execute_result"
    }
   ],
   "source": [
    "#for문을 통해 glucose부터 bmi까지 0인 항목을 모두 NaN으로 변경하기.\n",
    "for col in df.columns[1:6]:\n",
    "    df[col].replace(0,np.nan,inplace=True)\n",
    "df.head()"
   ]
  },
  {
   "cell_type": "code",
<<<<<<< HEAD
   "execution_count": 12,
=======
   "execution_count": 50,
>>>>>>> 7892e80ed04f959e7c7449626210d0996258cff2
   "id": "8f51d7c3-a31c-4db8-929c-f60bd4c53472",
   "metadata": {},
   "outputs": [
    {
     "data": {
      "text/html": [
       "<div>\n",
       "<style scoped>\n",
       "    .dataframe tbody tr th:only-of-type {\n",
       "        vertical-align: middle;\n",
       "    }\n",
       "\n",
       "    .dataframe tbody tr th {\n",
       "        vertical-align: top;\n",
       "    }\n",
       "\n",
       "    .dataframe thead th {\n",
       "        text-align: right;\n",
       "    }\n",
       "</style>\n",
       "<table border=\"1\" class=\"dataframe\">\n",
       "  <thead>\n",
       "    <tr style=\"text-align: right;\">\n",
       "      <th></th>\n",
       "      <th>pregnancies</th>\n",
       "      <th>glucose</th>\n",
       "      <th>bloodpressure</th>\n",
       "      <th>skinthickness</th>\n",
       "      <th>insulin</th>\n",
       "      <th>bmi</th>\n",
       "      <th>diabetespedigreefunction</th>\n",
       "      <th>age</th>\n",
       "      <th>outcome</th>\n",
       "    </tr>\n",
       "  </thead>\n",
       "  <tbody>\n",
       "    <tr>\n",
       "      <th>0</th>\n",
       "      <td>6</td>\n",
       "      <td>148.0</td>\n",
       "      <td>72.0</td>\n",
       "      <td>35.00000</td>\n",
       "      <td>155.548223</td>\n",
       "      <td>33.6</td>\n",
       "      <td>0.627</td>\n",
       "      <td>50</td>\n",
       "      <td>1</td>\n",
       "    </tr>\n",
       "    <tr>\n",
       "      <th>1</th>\n",
       "      <td>1</td>\n",
       "      <td>85.0</td>\n",
       "      <td>66.0</td>\n",
       "      <td>29.00000</td>\n",
       "      <td>155.548223</td>\n",
       "      <td>26.6</td>\n",
       "      <td>0.351</td>\n",
       "      <td>31</td>\n",
       "      <td>0</td>\n",
       "    </tr>\n",
       "    <tr>\n",
       "      <th>2</th>\n",
       "      <td>8</td>\n",
       "      <td>183.0</td>\n",
       "      <td>64.0</td>\n",
       "      <td>29.15342</td>\n",
       "      <td>155.548223</td>\n",
       "      <td>23.3</td>\n",
       "      <td>0.672</td>\n",
       "      <td>32</td>\n",
       "      <td>1</td>\n",
       "    </tr>\n",
       "    <tr>\n",
       "      <th>3</th>\n",
       "      <td>1</td>\n",
       "      <td>89.0</td>\n",
       "      <td>66.0</td>\n",
       "      <td>23.00000</td>\n",
       "      <td>94.000000</td>\n",
       "      <td>28.1</td>\n",
       "      <td>0.167</td>\n",
       "      <td>21</td>\n",
       "      <td>0</td>\n",
       "    </tr>\n",
       "    <tr>\n",
       "      <th>4</th>\n",
       "      <td>0</td>\n",
       "      <td>137.0</td>\n",
       "      <td>40.0</td>\n",
       "      <td>35.00000</td>\n",
       "      <td>168.000000</td>\n",
       "      <td>43.1</td>\n",
       "      <td>2.288</td>\n",
       "      <td>33</td>\n",
       "      <td>1</td>\n",
       "    </tr>\n",
       "  </tbody>\n",
       "</table>\n",
       "</div>"
      ],
      "text/plain": [
       "   pregnancies  glucose  bloodpressure  skinthickness     insulin   bmi  \\\n",
       "0            6    148.0           72.0       35.00000  155.548223  33.6   \n",
       "1            1     85.0           66.0       29.00000  155.548223  26.6   \n",
       "2            8    183.0           64.0       29.15342  155.548223  23.3   \n",
       "3            1     89.0           66.0       23.00000   94.000000  28.1   \n",
       "4            0    137.0           40.0       35.00000  168.000000  43.1   \n",
       "\n",
       "   diabetespedigreefunction  age  outcome  \n",
       "0                     0.627   50        1  \n",
       "1                     0.351   31        0  \n",
       "2                     0.672   32        1  \n",
       "3                     0.167   21        0  \n",
       "4                     2.288   33        1  "
      ]
     },
<<<<<<< HEAD
     "execution_count": 12,
=======
     "execution_count": 50,
>>>>>>> 7892e80ed04f959e7c7449626210d0996258cff2
     "metadata": {},
     "output_type": "execute_result"
    }
   ],
   "source": [
    "#결측치를 모두 평균값으로 바꾸려면\n",
    "for col in df.columns[1:6]:\n",
    "    df[col].fillna(df[col].mean(),inplace=True)\n",
    "df.head()"
   ]
  },
  {
   "cell_type": "code",
<<<<<<< HEAD
   "execution_count": 13,
=======
   "execution_count": 52,
>>>>>>> 7892e80ed04f959e7c7449626210d0996258cff2
   "id": "c2ddd1b3-8ccf-4380-a2e4-7d8e45020587",
   "metadata": {},
   "outputs": [
    {
     "data": {
      "text/plain": [
       "pregnancies                 0\n",
       "glucose                     0\n",
       "bloodpressure               0\n",
       "skinthickness               0\n",
       "insulin                     0\n",
       "bmi                         0\n",
       "diabetespedigreefunction    0\n",
       "age                         0\n",
       "outcome                     0\n",
       "dtype: int64"
      ]
     },
<<<<<<< HEAD
     "execution_count": 13,
=======
     "execution_count": 52,
>>>>>>> 7892e80ed04f959e7c7449626210d0996258cff2
     "metadata": {},
     "output_type": "execute_result"
    }
   ],
   "source": [
    "df.isna().sum(axis=0) #결측치 모두 없어짐을 확인"
   ]
  },
  {
   "cell_type": "code",
<<<<<<< HEAD
   "execution_count": 14,
=======
   "execution_count": 53,
>>>>>>> 7892e80ed04f959e7c7449626210d0996258cff2
   "id": "a6982e50-7711-4fab-a702-71599ab9089b",
   "metadata": {},
   "outputs": [],
   "source": [
    "X = df.drop(['outcome'],axis=1)\n",
    "y = df['outcome']"
   ]
  },
  {
   "cell_type": "code",
<<<<<<< HEAD
   "execution_count": 15,
=======
   "execution_count": 90,
>>>>>>> 7892e80ed04f959e7c7449626210d0996258cff2
   "id": "c3477ac6-faef-42f0-ab0c-28f2953878bd",
   "metadata": {},
   "outputs": [
    {
     "name": "stdout",
     "output_type": "stream",
     "text": [
      "(614, 8) (154, 8)\n"
     ]
    }
   ],
   "source": [
    "#Train, test 데이터셋으로 나누기\n",
    "from sklearn.model_selection import train_test_split\n",
    "\n",
    "X_train, X_test, y_train, y_test = train_test_split(X,y,\n",
    "                                                    test_size=0.2,\n",
    "                                                    stratify=y)\n",
    "print(X_train.shape, X_test.shape)"
   ]
  },
  {
   "cell_type": "code",
<<<<<<< HEAD
   "execution_count": 16,
=======
   "execution_count": 91,
>>>>>>> 7892e80ed04f959e7c7449626210d0996258cff2
   "id": "4f1b7686-1a4d-41a9-a9f0-7bee6d6c23e6",
   "metadata": {},
   "outputs": [
    {
     "name": "stdout",
     "output_type": "stream",
     "text": [
      "<class 'numpy.ndarray'> <class 'pandas.core.series.Series'>\n"
     ]
    }
   ],
   "source": [
    "#스케일링 진행\n",
    "from sklearn.preprocessing import StandardScaler\n",
    "scaler = StandardScaler()\n",
    "X_train = scaler.fit_transform(X_train)\n",
    "print(type(X_train), type(y_train))\n"
   ]
  },
  {
   "cell_type": "code",
<<<<<<< HEAD
   "execution_count": 17,
=======
   "execution_count": 92,
>>>>>>> 7892e80ed04f959e7c7449626210d0996258cff2
   "id": "20438ec8-4402-4e26-8762-18b89732508f",
   "metadata": {},
   "outputs": [],
   "source": [
    "y_train = y_train.values #Series 자료형을 ndarray로 바꿔준다."
   ]
  },
  {
   "cell_type": "code",
<<<<<<< HEAD
   "execution_count": 18,
=======
   "execution_count": 93,
>>>>>>> 7892e80ed04f959e7c7449626210d0996258cff2
   "id": "2c67fa9b-bf2f-48fc-adf4-06ac8271730d",
   "metadata": {},
   "outputs": [
    {
     "name": "stdout",
     "output_type": "stream",
     "text": [
      "<class 'numpy.ndarray'> <class 'numpy.ndarray'>\n"
     ]
    }
   ],
   "source": [
    "print(type(X_train), type(y_train))"
   ]
  },
  {
   "cell_type": "code",
<<<<<<< HEAD
   "execution_count": 19,
=======
   "execution_count": 94,
>>>>>>> 7892e80ed04f959e7c7449626210d0996258cff2
   "id": "c8c2826f-4e17-456e-9df6-eefed4c53a83",
   "metadata": {},
   "outputs": [
    {
     "data": {
      "text/plain": [
       "LogisticRegression()"
      ]
     },
<<<<<<< HEAD
     "execution_count": 19,
=======
     "execution_count": 94,
>>>>>>> 7892e80ed04f959e7c7449626210d0996258cff2
     "metadata": {},
     "output_type": "execute_result"
    }
   ],
   "source": [
    "from sklearn.linear_model import LogisticRegression\n",
    "lg = LogisticRegression()\n",
    "lg.fit(X_train,y_train)"
   ]
  },
  {
   "cell_type": "code",
<<<<<<< HEAD
   "execution_count": 20,
=======
   "execution_count": 95,
>>>>>>> 7892e80ed04f959e7c7449626210d0996258cff2
   "id": "2c907af3-044c-4a2c-957e-88f6d1e132bc",
   "metadata": {},
   "outputs": [
    {
     "data": {
      "text/plain": [
<<<<<<< HEAD
       "0.7866449511400652"
      ]
     },
     "execution_count": 20,
=======
       "0.7768729641693811"
      ]
     },
     "execution_count": 95,
>>>>>>> 7892e80ed04f959e7c7449626210d0996258cff2
     "metadata": {},
     "output_type": "execute_result"
    }
   ],
   "source": [
    "lg.score(X_train,y_train) # R2   (1에 가까울 수록 좋은 예측 결과를 말함)"
   ]
  },
  {
   "cell_type": "markdown",
   "id": "818614ee-4d66-46c6-aa4c-95695aac5dc1",
   "metadata": {},
   "source": [
    "### 테스트"
   ]
  },
  {
   "cell_type": "code",
<<<<<<< HEAD
   "execution_count": 21,
=======
   "execution_count": 96,
>>>>>>> 7892e80ed04f959e7c7449626210d0996258cff2
   "id": "67267a46-9a83-4bc3-b4b3-75fdb57d719f",
   "metadata": {},
   "outputs": [],
   "source": [
    "X_test = scaler.transform(X_test)\n",
    "y_test = y_test.values"
   ]
  },
  {
   "cell_type": "code",
<<<<<<< HEAD
   "execution_count": 22,
=======
   "execution_count": 97,
>>>>>>> 7892e80ed04f959e7c7449626210d0996258cff2
   "id": "9b8d181c-ae80-4afd-90df-4b3e5203360b",
   "metadata": {},
   "outputs": [
    {
     "data": {
      "text/plain": [
<<<<<<< HEAD
       "array([0, 0, 0, 0, 0, 0, 0, 0, 1, 0, 0, 0, 1, 0, 0, 0, 0, 0, 0, 0, 0, 0,\n",
       "       0, 0, 1, 0, 0, 0, 0, 0, 1, 0, 0, 0, 1, 1, 0, 0, 1, 0, 0, 0, 0, 0,\n",
       "       0, 1, 0, 0, 0, 0, 1, 1, 0, 0, 0, 1, 0, 1, 0, 0, 0, 0, 0, 0, 1, 0,\n",
       "       0, 0, 0, 0, 0, 1, 0, 1, 0, 0, 0, 1, 1, 0, 0, 0, 0, 0, 0, 0, 1, 1,\n",
       "       0, 0, 1, 0, 1, 0, 0, 0, 0, 0, 0, 1, 0, 0, 1, 1, 1, 0, 0, 0, 1, 0,\n",
       "       0, 1, 0, 1, 0, 0, 1, 1, 0, 1, 0, 0, 1, 0, 0, 0, 0, 0, 0, 1, 1, 0,\n",
       "       0, 1, 0, 0, 0, 1, 0, 0, 0, 1, 0, 0, 0, 0, 0, 0, 1, 0, 0, 1, 0, 0],\n",
       "      dtype=int64)"
      ]
     },
     "execution_count": 22,
=======
       "array([0, 1, 0, 0, 0, 1, 1, 0, 1, 0, 0, 0, 1, 0, 0, 0, 0, 0, 0, 0, 0, 0,\n",
       "       0, 1, 0, 0, 0, 0, 1, 0, 1, 0, 0, 0, 0, 0, 0, 1, 0, 0, 1, 0, 0, 1,\n",
       "       1, 1, 0, 0, 0, 0, 0, 1, 1, 1, 0, 0, 0, 0, 1, 0, 0, 0, 0, 0, 0, 0,\n",
       "       0, 0, 0, 0, 0, 1, 0, 1, 0, 0, 0, 0, 0, 0, 0, 0, 1, 0, 0, 0, 1, 0,\n",
       "       0, 1, 0, 0, 0, 1, 0, 0, 1, 0, 1, 0, 0, 1, 0, 1, 0, 0, 1, 1, 0, 0,\n",
       "       0, 0, 0, 1, 0, 1, 0, 0, 0, 0, 0, 0, 0, 0, 0, 0, 0, 0, 0, 0, 0, 0,\n",
       "       0, 0, 0, 1, 0, 1, 0, 1, 0, 0, 0, 0, 0, 1, 0, 1, 0, 1, 0, 0, 0, 0],\n",
       "      dtype=int64)"
      ]
     },
     "execution_count": 97,
>>>>>>> 7892e80ed04f959e7c7449626210d0996258cff2
     "metadata": {},
     "output_type": "execute_result"
    }
   ],
   "source": [
    "y_pred = lg.predict(X_test)\n",
    "y_pred"
   ]
  },
  {
   "cell_type": "code",
<<<<<<< HEAD
   "execution_count": 23,
=======
   "execution_count": 101,
>>>>>>> 7892e80ed04f959e7c7449626210d0996258cff2
   "id": "e24b1381-2424-497e-a9a4-655aa887704f",
   "metadata": {},
   "outputs": [
    {
     "data": {
      "text/plain": [
<<<<<<< HEAD
       "array([[0.6146816 , 0.3853184 ],\n",
       "       [0.75026839, 0.24973161],\n",
       "       [0.94367351, 0.05632649],\n",
       "       [0.76999409, 0.23000591],\n",
       "       [0.74243727, 0.25756273],\n",
       "       [0.95625831, 0.04374169],\n",
       "       [0.94038488, 0.05961512],\n",
       "       [0.80342637, 0.19657363],\n",
       "       [0.1600871 , 0.8399129 ],\n",
       "       [0.68378708, 0.31621292]])"
      ]
     },
     "execution_count": 23,
=======
       "array([[0.82826712, 0.17173288],\n",
       "       [0.337537  , 0.662463  ],\n",
       "       [0.9868111 , 0.0131889 ],\n",
       "       [0.61313799, 0.38686201],\n",
       "       [0.70947985, 0.29052015],\n",
       "       [0.21195645, 0.78804355],\n",
       "       [0.39938416, 0.60061584],\n",
       "       [0.91501392, 0.08498608],\n",
       "       [0.36625507, 0.63374493],\n",
       "       [0.84162945, 0.15837055]])"
      ]
     },
     "execution_count": 101,
>>>>>>> 7892e80ed04f959e7c7449626210d0996258cff2
     "metadata": {},
     "output_type": "execute_result"
    }
   ],
   "source": [
    "y_pred = lg.predict_proba(X_test)   #확률로 값을 예측하는 함수. Predict Probability\n",
    "y_pred[:10]\n",
    "# [0일 확률, 1일 확률] 의 값들이 여러개 있는 array가 만들어진다.\n",
    "# 이 값들 기준으로 좀 더 높은 확률의 값을 y_pred에 넣는다. (위 y_pred와 대조하면 알 수 있다)"
   ]
  },
  {
   "cell_type": "code",
<<<<<<< HEAD
   "execution_count": 24,
=======
   "execution_count": 104,
>>>>>>> 7892e80ed04f959e7c7449626210d0996258cff2
   "id": "1f531d65-eea1-4c3f-a1ab-980aea151ed8",
   "metadata": {},
   "outputs": [
    {
     "data": {
      "text/plain": [
<<<<<<< HEAD
       "array([0, 0, 0, 0, 0, 0, 0, 0, 1, 0, 0, 0, 1, 0, 0, 0, 0, 0, 0, 0, 0, 0,\n",
       "       0, 0, 1, 0, 0, 0, 0, 0, 1, 0, 0, 0, 1, 1, 0, 0, 1, 0, 0, 0, 0, 0,\n",
       "       0, 1, 0, 0, 0, 0, 1, 1, 0, 0, 0, 1, 0, 1, 0, 0, 0, 0, 0, 0, 1, 0,\n",
       "       0, 0, 0, 0, 0, 1, 0, 1, 0, 0, 0, 1, 1, 0, 0, 0, 0, 0, 0, 0, 1, 1,\n",
       "       0, 0, 1, 0, 1, 0, 0, 0, 0, 0, 0, 1, 0, 0, 1, 1, 1, 0, 0, 0, 1, 0,\n",
       "       0, 1, 0, 1, 0, 0, 1, 1, 0, 1, 0, 0, 1, 0, 0, 0, 0, 0, 0, 1, 1, 0,\n",
       "       0, 1, 0, 0, 0, 1, 0, 0, 0, 1, 0, 0, 0, 0, 0, 0, 1, 0, 0, 1, 0, 0],\n",
       "      dtype=int64)"
      ]
     },
     "execution_count": 24,
=======
       "array([0, 1, 0, 0, 0, 1, 1, 0, 1, 0, 0, 0, 1, 0, 0, 0, 0, 0, 0, 0, 0, 0,\n",
       "       0, 1, 0, 0, 0, 0, 1, 0, 1, 0, 0, 0, 0, 0, 0, 1, 0, 0, 1, 0, 0, 1,\n",
       "       1, 1, 0, 0, 0, 0, 0, 1, 1, 1, 0, 0, 0, 0, 1, 0, 0, 0, 0, 0, 0, 0,\n",
       "       0, 0, 0, 0, 0, 1, 0, 1, 0, 0, 0, 0, 0, 0, 0, 0, 1, 0, 0, 0, 1, 0,\n",
       "       0, 1, 0, 0, 0, 1, 0, 0, 1, 0, 1, 0, 0, 1, 0, 1, 0, 0, 1, 1, 0, 0,\n",
       "       0, 0, 0, 1, 0, 1, 0, 0, 0, 0, 0, 0, 0, 0, 0, 0, 0, 0, 0, 0, 0, 0,\n",
       "       0, 0, 0, 1, 0, 1, 0, 1, 0, 0, 0, 0, 0, 1, 0, 1, 0, 1, 0, 0, 0, 0],\n",
       "      dtype=int64)"
      ]
     },
     "execution_count": 104,
>>>>>>> 7892e80ed04f959e7c7449626210d0996258cff2
     "metadata": {},
     "output_type": "execute_result"
    }
   ],
   "source": [
    "y_pred = np.argmax(y_pred,axis=1) #argmax는 둘중에 큰쪽이 어딘지 알려주는 함수. 이걸 통해 더 큰쪽의 값을 반환하여 위에 predict 결과값을 받아볼 수 있다.\n",
    "y_pred"
   ]
  },
  {
   "cell_type": "code",
<<<<<<< HEAD
   "execution_count": 25,
=======
   "execution_count": 105,
>>>>>>> 7892e80ed04f959e7c7449626210d0996258cff2
   "id": "127e8c66-6f6f-406b-831f-f1bc56ae2a20",
   "metadata": {},
   "outputs": [
    {
<<<<<<< HEAD
     "name": "stdout",
     "output_type": "stream",
     "text": [
      "accuracy :  0.7337662337662337\n",
      "precision :  0.6666666666666666\n",
      "recall :  0.48148148148148145\n"
=======
     "ename": "AttributeError",
     "evalue": "module 'myutils' has no attribute 'print_score'",
     "output_type": "error",
     "traceback": [
      "\u001b[1;31m---------------------------------------------------------------------------\u001b[0m",
      "\u001b[1;31mAttributeError\u001b[0m                            Traceback (most recent call last)",
      "\u001b[1;32m~\\AppData\\Local\\Temp\\ipykernel_8308\\375816457.py\u001b[0m in \u001b[0;36m<module>\u001b[1;34m\u001b[0m\n\u001b[1;32m----> 1\u001b[1;33m \u001b[0mmy\u001b[0m\u001b[1;33m.\u001b[0m\u001b[0mprint_score\u001b[0m\u001b[1;33m(\u001b[0m\u001b[0my_test\u001b[0m\u001b[1;33m,\u001b[0m\u001b[0my_pred\u001b[0m\u001b[1;33m)\u001b[0m\u001b[1;33m\u001b[0m\u001b[1;33m\u001b[0m\u001b[0m\n\u001b[0m",
      "\u001b[1;31mAttributeError\u001b[0m: module 'myutils' has no attribute 'print_score'"
>>>>>>> 7892e80ed04f959e7c7449626210d0996258cff2
     ]
    }
   ],
   "source": [
    "my.print_score(y_test,y_pred)"
   ]
  },
  {
   "cell_type": "code",
<<<<<<< HEAD
   "execution_count": 26,
=======
   "execution_count": 106,
>>>>>>> 7892e80ed04f959e7c7449626210d0996258cff2
   "id": "c15e7abe-4ab7-4e83-8984-21e049ddd723",
   "metadata": {},
   "outputs": [
    {
<<<<<<< HEAD
     "data": {
      "image/png": "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\n",
      "text/plain": [
       "<Figure size 500x500 with 1 Axes>"
      ]
     },
     "metadata": {},
     "output_type": "display_data"
=======
     "ename": "AttributeError",
     "evalue": "module 'myutils' has no attribute 'plot_confusion_matrix'",
     "output_type": "error",
     "traceback": [
      "\u001b[1;31m---------------------------------------------------------------------------\u001b[0m",
      "\u001b[1;31mAttributeError\u001b[0m                            Traceback (most recent call last)",
      "\u001b[1;32m~\\AppData\\Local\\Temp\\ipykernel_8308\\1456292506.py\u001b[0m in \u001b[0;36m<module>\u001b[1;34m\u001b[0m\n\u001b[1;32m----> 1\u001b[1;33m \u001b[0mmy\u001b[0m\u001b[1;33m.\u001b[0m\u001b[0mplot_confusion_matrix\u001b[0m\u001b[1;33m(\u001b[0m\u001b[0my_test\u001b[0m\u001b[1;33m,\u001b[0m\u001b[0my_pred\u001b[0m\u001b[1;33m)\u001b[0m\u001b[1;33m\u001b[0m\u001b[1;33m\u001b[0m\u001b[0m\n\u001b[0m",
      "\u001b[1;31mAttributeError\u001b[0m: module 'myutils' has no attribute 'plot_confusion_matrix'"
     ]
>>>>>>> 7892e80ed04f959e7c7449626210d0996258cff2
    }
   ],
   "source": [
    "my.plot_confusion_matrix(y_test,y_pred)"
   ]
  },
  {
   "cell_type": "code",
   "execution_count": null,
   "id": "c3461b7c-981b-4f13-b40b-59024ec14c09",
   "metadata": {},
   "outputs": [],
   "source": []
  }
 ],
 "metadata": {
  "kernelspec": {
   "display_name": "flyai",
   "language": "python",
   "name": "flyai"
  },
  "language_info": {
   "codemirror_mode": {
    "name": "ipython",
    "version": 3
   },
   "file_extension": ".py",
   "mimetype": "text/x-python",
   "name": "python",
   "nbconvert_exporter": "python",
   "pygments_lexer": "ipython3",
   "version": "3.9.13"
  }
 },
 "nbformat": 4,
 "nbformat_minor": 5
}
