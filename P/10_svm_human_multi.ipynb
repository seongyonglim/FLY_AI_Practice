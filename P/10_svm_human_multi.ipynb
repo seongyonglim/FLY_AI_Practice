{
 "cells": [
  {
   "cell_type": "markdown",
   "id": "42915921-a5cb-4537-b930-78abaf9a413a",
   "metadata": {},
   "source": [
    "# Human Activity Recognition\n",
    "---"
   ]
  },
  {
   "cell_type": "code",
   "execution_count": 2,
   "id": "335075ed-d3ac-44a3-9cbd-7cb7bd0936ac",
   "metadata": {},
   "outputs": [],
   "source": [
    "# !gdown https://drive.google.com/uc?id=1ypa5iZ1dLDO-zGRO_yDXrJnMvjRGUG4v"
   ]
  },
  {
   "cell_type": "code",
   "execution_count": 3,
   "id": "a748f969-4e61-4f10-88ae-f899584c75fd",
   "metadata": {},
   "outputs": [],
   "source": [
    "import numpy as np\n",
    "import pandas as pd"
   ]
  },
  {
   "cell_type": "code",
   "execution_count": 4,
   "id": "4e3e6872-970d-4714-a598-862cbf239040",
   "metadata": {},
   "outputs": [
    {
     "data": {
      "text/plain": [
       "(7352, 563)"
      ]
     },
     "execution_count": 4,
     "metadata": {},
     "output_type": "execute_result"
    }
   ],
   "source": [
    "human = pd.read_csv('./HumanActivityRecognition/train.csv')\n",
    "human.shape"
   ]
  },
  {
   "cell_type": "markdown",
   "id": "12d717aa-ca14-474a-82b1-bb70fb09be71",
   "metadata": {},
   "source": [
    "### 데이터 준비\n",
    "- 결측치 \n",
    "- 중복치 \n",
    "- X, y 분리\n",
    "- y값 유니크값 : 레이블 몇개짜리인지..\n",
    "- y값 인코딩\n",
    "\n",
    "- 정규화 (표준화)\n",
    "- GridSearchCV : 베스트 모델 찾기\n",
    "- 테스트 파일 읽어서, score 계산하기 "
   ]
  },
  {
   "cell_type": "code",
   "execution_count": null,
   "id": "5e1d74b4-568c-481a-ac70-6d94c69ca5da",
   "metadata": {},
   "outputs": [],
   "source": []
  }
 ],
 "metadata": {
  "kernelspec": {
   "display_name": "flyai",
   "language": "python",
   "name": "flyai"
  },
  "language_info": {
   "codemirror_mode": {
    "name": "ipython",
    "version": 3
   },
   "file_extension": ".py",
   "mimetype": "text/x-python",
   "name": "python",
   "nbconvert_exporter": "python",
   "pygments_lexer": "ipython3",
   "version": "3.8.0"
  }
 },
 "nbformat": 4,
 "nbformat_minor": 5
}
