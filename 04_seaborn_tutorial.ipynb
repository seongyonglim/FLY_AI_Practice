{
 "cells": [
  {
   "cell_type": "markdown",
   "id": "3093625a-afc5-4dd6-8f4e-5839940942ca",
   "metadata": {},
   "source": [
    "# Seaborn"
   ]
  },
  {
   "cell_type": "markdown",
   "id": "55177757-d6eb-4db0-8af7-c447b16e9dd3",
   "metadata": {},
   "source": [
    "![](https://seaborn.pydata.org/_images/function_overview_8_0.png)"
   ]
  },
  {
   "cell_type": "code",
   "execution_count": 6,
   "id": "066153a9-327b-497f-af13-d4073f112c49",
   "metadata": {},
   "outputs": [],
   "source": [
    "#!pip install seaborn --upgrade --user"
   ]
  },
  {
   "cell_type": "code",
   "execution_count": 9,
   "id": "9cb9adbc-51d4-4ff8-b876-6100fa570682",
   "metadata": {},
   "outputs": [
    {
     "data": {
      "text/plain": [
       "'1.21.0'"
      ]
     },
     "execution_count": 9,
     "metadata": {},
     "output_type": "execute_result"
    }
   ],
   "source": [
    "import seaborn as sns\n",
    "\n",
    "sns.__version__"
   ]
  },
  {
   "cell_type": "code",
   "execution_count": null,
   "id": "ede9a660-1b56-4e57-a3a0-fd69eb240705",
   "metadata": {},
   "outputs": [],
   "source": []
  }
 ],
 "metadata": {
  "kernelspec": {
   "display_name": "flyai",
   "language": "python",
   "name": "flyai"
  },
  "language_info": {
   "codemirror_mode": {
    "name": "ipython",
    "version": 3
   },
   "file_extension": ".py",
   "mimetype": "text/x-python",
   "name": "python",
   "nbconvert_exporter": "python",
   "pygments_lexer": "ipython3",
   "version": "3.9.13"
  }
 },
 "nbformat": 4,
 "nbformat_minor": 5
}
