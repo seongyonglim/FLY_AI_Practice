{
 "cells": [
  {
   "cell_type": "code",
   "execution_count": 4,
   "id": "5c8f8ad5-4110-4d5b-9b4a-5657b392e48b",
   "metadata": {},
   "outputs": [
    {
     "data": {
      "text/plain": [
       "'1.21.0'"
      ]
     },
     "execution_count": 4,
     "metadata": {},
     "output_type": "execute_result"
    }
   ],
   "source": [
    "import numpy as np\n",
    "\n",
    "np.__version__"
   ]
  },
  {
   "cell_type": "code",
   "execution_count": 6,
   "id": "5a1a31fa-5e9e-4879-a9e8-a938eac8db46",
   "metadata": {},
   "outputs": [
    {
     "name": "stdout",
     "output_type": "stream",
     "text": [
      "<class 'numpy.ndarray'>\n"
     ]
    }
   ],
   "source": [
    "john = [10,8,6,7]\n",
    "x = np.array(john)\n",
    "\n",
    "print(type(x))"
   ]
  },
  {
   "cell_type": "code",
   "execution_count": null,
   "id": "ea395980-c5c6-405d-be65-641ea2ab1fb1",
   "metadata": {},
   "outputs": [
    {
     "data": {
      "text/plain": [
       "[11, 9, 7, 8]"
      ]
     },
     "execution_count": 8,
     "metadata": {},
     "output_type": "execute_result"
    }
   ],
   "source": [
    "# 리스트에 있는 모든 원소에 1씩 추가::for문 방식\n",
    "john = [10,8,6,7]\n",
    "\n",
    "x = []\n",
    "for i in john:\n",
    "    x.append(i+1)\n",
    "\n",
    "x"
   ]
  },
  {
   "cell_type": "code",
   "execution_count": null,
   "id": "770d0d2b-ab1c-4cce-90ed-ec98f000068f",
   "metadata": {},
   "outputs": [
    {
     "data": {
      "text/plain": [
       "[11, 9, 7, 8]"
      ]
     },
     "execution_count": 9,
     "metadata": {},
     "output_type": "execute_result"
    }
   ],
   "source": [
    "# 리스트 내포 방식 (이 방법을 이용해보도록 하자 ***)\n",
    "x = [c+1 for c in john]\n",
    "x"
   ]
  },
  {
   "cell_type": "code",
   "execution_count": null,
   "id": "1ef59eef-bf87-4ee6-a46e-036a3709b419",
   "metadata": {},
   "outputs": [
    {
     "data": {
      "text/plain": [
       "array([10,  8,  6,  7])"
      ]
     },
     "execution_count": 10,
     "metadata": {},
     "output_type": "execute_result"
    }
   ],
   "source": [
    "# numpy array를 활용한 방식\n",
    "john = np.array(john)\n",
    "john"
   ]
  },
  {
   "cell_type": "code",
   "execution_count": null,
   "id": "e923eb54-ec79-4bb4-9320-c7b29547ae48",
   "metadata": {},
   "outputs": [
    {
     "data": {
      "text/plain": [
       "array([11,  9,  7,  8])"
      ]
     },
     "execution_count": 11,
     "metadata": {},
     "output_type": "execute_result"
    }
   ],
   "source": [
    "john+1"
   ]
  },
  {
   "cell_type": "markdown",
   "id": "02e1498d-fcaa-4236-83cd-eccd7b7005bc",
   "metadata": {},
   "source": [
    "# 다차원 배열"
   ]
  },
  {
   "cell_type": "code",
   "execution_count": null,
   "id": "6e3aca97-79ab-4939-b798-ec3399b9461e",
   "metadata": {},
   "outputs": [
    {
     "data": {
      "text/plain": [
       "array([[1, 2, 3, 4],\n",
       "       [5, 6, 7, 8]])"
      ]
     },
     "execution_count": 12,
     "metadata": {},
     "output_type": "execute_result"
    }
   ],
   "source": [
    "score = [[1,2,3,4],\n",
    "        [5,6,7,8]]\n",
    "X = np.array(score)\n",
    "X"
   ]
  },
  {
   "cell_type": "code",
   "execution_count": null,
   "id": "f38acb31-9faa-478f-b6b4-74afcaa398ed",
   "metadata": {},
   "outputs": [
    {
     "data": {
      "text/plain": [
       "(2, 4)"
      ]
     },
     "execution_count": 13,
     "metadata": {},
     "output_type": "execute_result"
    }
   ],
   "source": [
    "X.shape"
   ]
  },
  {
   "cell_type": "code",
   "execution_count": null,
   "id": "b380fe88-a955-47e2-b48a-019e76e7573e",
   "metadata": {},
   "outputs": [
    {
     "data": {
      "text/plain": [
       "dtype('int32')"
      ]
     },
     "execution_count": 14,
     "metadata": {},
     "output_type": "execute_result"
    }
   ],
   "source": [
    "X.dtype"
   ]
  },
  {
   "cell_type": "code",
   "execution_count": null,
   "id": "b730bcc7-52ba-4752-806c-2b49617440a3",
   "metadata": {},
   "outputs": [
    {
     "data": {
      "text/plain": [
       "(4,)"
      ]
     },
     "execution_count": 15,
     "metadata": {},
     "output_type": "execute_result"
    }
   ],
   "source": [
    "y = np.array([1.,2.,3.,4.])\n",
    "y.shape"
   ]
  },
  {
   "cell_type": "code",
   "execution_count": null,
   "id": "931795b7-33ec-4494-8aea-e15017ff2935",
   "metadata": {},
   "outputs": [
    {
     "data": {
      "text/plain": [
       "tuple"
      ]
     },
     "execution_count": 16,
     "metadata": {},
     "output_type": "execute_result"
    }
   ],
   "source": [
    "type(y.shape)"
   ]
  },
  {
   "cell_type": "code",
   "execution_count": null,
   "id": "b931d7ff-7afd-4c6c-96c2-b4480278ae3b",
   "metadata": {},
   "outputs": [
    {
     "data": {
      "text/plain": [
       "int"
      ]
     },
     "execution_count": 17,
     "metadata": {},
     "output_type": "execute_result"
    }
   ],
   "source": [
    "x = (4)\n",
    "type(x)"
   ]
  },
  {
   "cell_type": "code",
   "execution_count": null,
   "id": "9a89d2bc-0ba4-4e10-987c-cbbb42618e8e",
   "metadata": {},
   "outputs": [
    {
     "data": {
      "text/plain": [
       "(tuple, int)"
      ]
     },
     "execution_count": 18,
     "metadata": {},
     "output_type": "execute_result"
    }
   ],
   "source": [
    "type((4,)),type((4))"
   ]
  },
  {
   "cell_type": "code",
   "execution_count": null,
   "id": "eea1ecaf-80ef-44a6-81c0-c431c37f918f",
   "metadata": {},
   "outputs": [
    {
     "data": {
      "text/plain": [
       "array([0, 1, 2, 3, 4, 5, 6, 7, 8])"
      ]
     },
     "execution_count": 19,
     "metadata": {},
     "output_type": "execute_result"
    }
   ],
   "source": [
    "X = np.arange(9)\n",
    "X"
   ]
  },
  {
   "cell_type": "code",
   "execution_count": null,
   "id": "b31c9a8b-4dbb-4976-b602-cde1c093f94f",
   "metadata": {},
   "outputs": [
    {
     "data": {
      "text/plain": [
       "(9,)"
      ]
     },
     "execution_count": 20,
     "metadata": {},
     "output_type": "execute_result"
    }
   ],
   "source": [
    "X.shape"
   ]
  },
  {
   "cell_type": "code",
   "execution_count": null,
   "id": "0eb0446a-1086-4534-a1c5-63a53c68528f",
   "metadata": {},
   "outputs": [
    {
     "data": {
      "text/plain": [
       "(3, 3)"
      ]
     },
     "execution_count": 21,
     "metadata": {},
     "output_type": "execute_result"
    }
   ],
   "source": [
    "y = X.reshape(3,3)\n",
    "y.shape"
   ]
  },
  {
   "cell_type": "code",
   "execution_count": null,
   "id": "1cf33893-223c-4dcf-9797-a123620d215c",
   "metadata": {},
   "outputs": [
    {
     "data": {
      "text/plain": [
       "array([[[0, 1, 2],\n",
       "        [3, 4, 5],\n",
       "        [6, 7, 8]]])"
      ]
     },
     "execution_count": 22,
     "metadata": {},
     "output_type": "execute_result"
    }
   ],
   "source": [
    "X.reshape(-1,3,3)  #-1을 넣게되면 나머지는 알아서 처리해달라는 뜻이다. 원소가 9개에 3x3이므로 1x3x3으로 자동세팅됨."
   ]
  },
  {
   "cell_type": "code",
   "execution_count": null,
   "id": "cc0c1a32-b52c-4c16-8de6-acbb733a0670",
   "metadata": {},
   "outputs": [
    {
     "data": {
      "text/plain": [
       "array([[[ 0,  1],\n",
       "        [ 2,  3],\n",
       "        [ 4,  5],\n",
       "        [ 6,  7]],\n",
       "\n",
       "       [[ 8,  9],\n",
       "        [10, 11],\n",
       "        [12, 13],\n",
       "        [14, 15]]])"
      ]
     },
     "execution_count": 23,
     "metadata": {},
     "output_type": "execute_result"
    }
   ],
   "source": [
    "X = np.arange(0,16)\n",
    "X = X.reshape(4,4)\n",
    "X = X.reshape(2,4,2)\n",
    "X"
   ]
  },
  {
   "cell_type": "code",
   "execution_count": null,
   "id": "366c96c0-6e86-42b7-a01b-b5596ed71832",
   "metadata": {},
   "outputs": [
    {
     "data": {
      "text/plain": [
       "((3,), (3, 1))"
      ]
     },
     "execution_count": 24,
     "metadata": {},
     "output_type": "execute_result"
    }
   ],
   "source": [
    "X = np.array([1,2,3])\n",
    "y = np.array([[1],[2],[3]])\n",
    "X.shape, y.shape"
   ]
  },
  {
   "cell_type": "code",
   "execution_count": null,
   "id": "ed346686-0d3a-477e-9761-ac79954a4a4a",
   "metadata": {},
   "outputs": [
    {
     "data": {
      "text/plain": [
       "array([1, 2, 3])"
      ]
     },
     "execution_count": 25,
     "metadata": {},
     "output_type": "execute_result"
    }
   ],
   "source": [
    "y =  y.reshape(-1)\n",
    "y"
   ]
  },
  {
   "cell_type": "code",
   "execution_count": null,
   "id": "db3f5f63-f3e1-426b-919c-e5c238261f36",
   "metadata": {},
   "outputs": [
    {
     "data": {
      "text/plain": [
       "array([[[ 0,  1],\n",
       "        [ 2,  3],\n",
       "        [ 4,  5],\n",
       "        [ 6,  7]],\n",
       "\n",
       "       [[ 8,  9],\n",
       "        [10, 11],\n",
       "        [12, 13],\n",
       "        [14, 15]]])"
      ]
     },
     "execution_count": 26,
     "metadata": {},
     "output_type": "execute_result"
    }
   ],
   "source": [
    "X = np.arange(0,16)\n",
    "X = X.reshape(-1,4,2)\n",
    "X"
   ]
  },
  {
   "cell_type": "markdown",
   "id": "305ab38e-5b4f-4867-a640-3a732d9286e8",
   "metadata": {},
   "source": [
    "# 슬라이싱, 인덱싱"
   ]
  },
  {
   "cell_type": "code",
   "execution_count": 46,
   "id": "b7b9ce2f-50e0-4f3c-b107-de792d50a50f",
   "metadata": {},
   "outputs": [
    {
     "data": {
      "text/plain": [
       "array([[4, 5, 6],\n",
       "       [8, 9, 0]])"
      ]
     },
     "execution_count": 46,
     "metadata": {},
     "output_type": "execute_result"
    }
   ],
   "source": [
    "X = np.array([[4,5,6],[8,9,0]])\n",
    "X"
   ]
  },
  {
   "cell_type": "markdown",
   "id": "ed3a40ca-539e-4e3a-aff9-b22bdc59e671",
   "metadata": {},
   "source": [
    "### Fancy Indexing"
   ]
  },
  {
   "cell_type": "code",
   "execution_count": 47,
   "id": "a76d1edf-6de0-4211-9a0a-327c21b77613",
   "metadata": {},
   "outputs": [
    {
     "data": {
      "text/plain": [
       "array([5, 6])"
      ]
     },
     "execution_count": 47,
     "metadata": {},
     "output_type": "execute_result"
    }
   ],
   "source": [
    "X[0,[1,2]]"
   ]
  },
  {
   "cell_type": "markdown",
   "id": "c5f25c7c-b8e7-4ad1-8d92-1914b708cf4f",
   "metadata": {},
   "source": [
    "### Slicing"
   ]
  },
  {
   "cell_type": "code",
   "execution_count": 48,
   "id": "3e72abff-e961-4f35-9dd7-99531cfe5a5a",
   "metadata": {},
   "outputs": [
    {
     "data": {
      "text/plain": [
       "array([5, 6])"
      ]
     },
     "execution_count": 48,
     "metadata": {},
     "output_type": "execute_result"
    }
   ],
   "source": [
    "X[0,1:]"
   ]
  },
  {
   "cell_type": "markdown",
   "id": "a6ddf25a-775c-47b7-b606-bcf43a8681e2",
   "metadata": {},
   "source": [
    "### Boolean Indexing"
   ]
  },
  {
   "cell_type": "code",
   "execution_count": 43,
   "id": "082dbf93-f253-43ec-8ed3-dd5897bbfb43",
   "metadata": {},
   "outputs": [
    {
     "data": {
      "text/plain": [
       "array([2, 4])"
      ]
     },
     "execution_count": 43,
     "metadata": {},
     "output_type": "execute_result"
    }
   ],
   "source": [
    "X = np.array([c for c in range(1,6)]) #[1,2,3,4,5]\n",
    "idx = [False,True,False,True,False,]\n",
    "X[idx]"
   ]
  },
  {
   "cell_type": "code",
   "execution_count": null,
   "id": "682c5794-fb43-4f3f-bc0d-28df7eb7aadb",
   "metadata": {},
   "outputs": [
    {
     "data": {
      "text/plain": [
       "array([False, False, False,  True, False])"
      ]
     },
     "execution_count": 31,
     "metadata": {},
     "output_type": "execute_result"
    }
   ],
   "source": [
    "X = np.array([1,5,3,7,6])\n",
    "X>6"
   ]
  },
  {
   "cell_type": "code",
   "execution_count": null,
   "id": "32862d99-b4a3-46f0-be69-9e3beb3949fd",
   "metadata": {},
   "outputs": [
    {
     "data": {
      "text/plain": [
       "array([7])"
      ]
     },
     "execution_count": 32,
     "metadata": {},
     "output_type": "execute_result"
    }
   ],
   "source": [
    "X[X>6]"
   ]
  },
  {
   "cell_type": "code",
   "execution_count": null,
   "id": "a5b765a6-d450-4487-b8eb-212f14f08da4",
   "metadata": {},
   "outputs": [
    {
     "data": {
      "text/plain": [
       "array([[1, 2, 3],\n",
       "       [3, 4, 5]])"
      ]
     },
     "execution_count": 33,
     "metadata": {},
     "output_type": "execute_result"
    }
   ],
   "source": [
    "X = np.array([[1,2,3],\n",
    "              [3,4,5]])\n",
    "X"
   ]
  },
  {
   "cell_type": "code",
   "execution_count": null,
   "id": "deb09289-b09d-4df4-9113-dd550865ba44",
   "metadata": {},
   "outputs": [
    {
     "name": "stdout",
     "output_type": "stream",
     "text": [
      "[4 6 8]\n",
      "[ 6 12]\n"
     ]
    }
   ],
   "source": [
    "print(np.sum(X,axis=0))\n",
    "print(np.sum(X,axis=1))"
   ]
  },
  {
   "cell_type": "code",
   "execution_count": null,
   "id": "4fefebbc-4aa8-4ee5-80c8-0a26c6bc5e89",
   "metadata": {},
   "outputs": [
    {
     "data": {
      "text/plain": [
       "array([2., 4.])"
      ]
     },
     "execution_count": 35,
     "metadata": {},
     "output_type": "execute_result"
    }
   ],
   "source": [
    "np.mean(X,axis=-1) #제일 뒷축의 mean을 구한다"
   ]
  },
  {
   "cell_type": "code",
   "execution_count": 61,
   "id": "53e6c64f-6a13-44b2-baf9-c33851272347",
   "metadata": {},
   "outputs": [
    {
     "data": {
      "text/plain": [
       "array([1, 2, 3])"
      ]
     },
     "execution_count": 61,
     "metadata": {},
     "output_type": "execute_result"
    }
   ],
   "source": [
    "X = np.array([1,2,3])\n",
    "X"
   ]
  },
  {
   "cell_type": "markdown",
   "id": "4119915c-4e73-4e9d-be10-438d672c11e1",
   "metadata": {
    "tags": []
   },
   "source": [
    "### Broadcasting"
   ]
  },
  {
   "cell_type": "code",
   "execution_count": 62,
   "id": "ed92535d-5ac9-4e73-be6e-cde0c5f9073d",
   "metadata": {},
   "outputs": [
    {
     "data": {
      "text/plain": [
       "array([2, 3, 4])"
      ]
     },
     "execution_count": 62,
     "metadata": {},
     "output_type": "execute_result"
    }
   ],
   "source": [
    "X+1 #broadcasting 방법이 적용돼서 모든 원소에 1이 더해지는 것이다. X+1 -> X+[1,1,1]"
   ]
  },
  {
   "cell_type": "code",
   "execution_count": 63,
   "id": "f16ecc6d-c871-4876-9f20-de87254b26b1",
   "metadata": {},
   "outputs": [
    {
     "data": {
      "text/plain": [
       "array([[0],\n",
       "       [1],\n",
       "       [2]])"
      ]
     },
     "execution_count": 63,
     "metadata": {},
     "output_type": "execute_result"
    }
   ],
   "source": [
    "#broadcasting 되는 기준: 늘렸을 때 서로 모양이 맞게될 경우 broadcasting이 된다.\n",
    "X = np.arange(3).reshape(3,1)\n",
    "X"
   ]
  },
  {
   "cell_type": "code",
   "execution_count": 64,
   "id": "e29e8c0e-4d67-43e1-abf5-c401bc63e2d6",
   "metadata": {},
   "outputs": [
    {
     "data": {
      "text/plain": [
       "array([0, 1, 2])"
      ]
     },
     "execution_count": 64,
     "metadata": {},
     "output_type": "execute_result"
    }
   ],
   "source": [
    "Y = np.arange(3)\n",
    "Y"
   ]
  },
  {
   "cell_type": "code",
   "execution_count": 65,
   "id": "4c5f4e43-ef7e-4d6e-b5ac-ab498c0fea04",
   "metadata": {},
   "outputs": [
    {
     "data": {
      "text/plain": [
       "array([[0, 1, 2],\n",
       "       [1, 2, 3],\n",
       "       [2, 3, 4]])"
      ]
     },
     "execution_count": 65,
     "metadata": {},
     "output_type": "execute_result"
    }
   ],
   "source": [
    "X+Y"
   ]
  },
  {
   "cell_type": "code",
   "execution_count": 66,
   "id": "2860aa20-d841-4eea-ad6a-781eb2b1191c",
   "metadata": {},
   "outputs": [
    {
     "data": {
      "text/plain": [
       "array(['1', '2', '3'], dtype='<U11')"
      ]
     },
     "execution_count": 66,
     "metadata": {},
     "output_type": "execute_result"
    }
   ],
   "source": [
    "X = np.array([1,'2',3])\n",
    "X"
   ]
  },
  {
   "cell_type": "code",
   "execution_count": 67,
   "id": "5ff98aa5-2ab9-4ae3-9208-f7592204b209",
   "metadata": {},
   "outputs": [
    {
     "data": {
      "text/plain": [
       "array([1, 2, 3])"
      ]
     },
     "execution_count": 67,
     "metadata": {},
     "output_type": "execute_result"
    }
   ],
   "source": [
    "X.astype(np.int32)  #대량의 파일을 받았을 때 메모리가 감당이 안되는 경우 메모리를 줄이는 작업하기 위해 간혹 쓰이는 함수"
   ]
  },
  {
   "cell_type": "markdown",
   "id": "16a5bb18-1c94-4909-a43d-7ac2ab990c9f",
   "metadata": {},
   "source": [
    "# 난수 생성 함수"
   ]
  },
  {
   "cell_type": "code",
   "execution_count": 2,
   "id": "6cc5e942-b5e7-4dfb-b359-ed59a7b5a009",
   "metadata": {},
   "outputs": [],
   "source": [
    "import numpy as np"
   ]
  },
  {
   "cell_type": "markdown",
   "id": "6b965442-df73-4df4-9054-58965728e5dd",
   "metadata": {
    "tags": []
   },
   "source": [
    "### np.random.random()\n",
    "- [0.0,1.0) 범위의 숫자가 나온다"
   ]
  },
  {
   "cell_type": "code",
   "execution_count": 73,
   "id": "3a899703-e891-4d09-83eb-8f4dc5335e68",
   "metadata": {},
   "outputs": [
    {
     "data": {
      "text/plain": [
       "array([[0.56788673, 0.32753405],\n",
       "       [0.60528255, 0.83041184]])"
      ]
     },
     "execution_count": 73,
     "metadata": {},
     "output_type": "execute_result"
    }
   ],
   "source": [
    "np.random.random((2,2))"
   ]
  },
  {
   "cell_type": "markdown",
   "id": "63e4d513-0064-4157-840e-1474ea891e59",
   "metadata": {},
   "source": [
    "### rand() 0~1의 균일분포"
   ]
  },
  {
   "cell_type": "code",
   "execution_count": 76,
   "id": "02ab7af8-2b88-4f26-8405-b678caffeabe",
   "metadata": {},
   "outputs": [
    {
     "data": {
      "text/plain": [
       "array([[0.64780712, 0.49449649],\n",
       "       [0.33475496, 0.54755925]])"
      ]
     },
     "execution_count": 76,
     "metadata": {},
     "output_type": "execute_result"
    }
   ],
   "source": [
    "np.random.rand(2,2)"
   ]
  },
  {
   "cell_type": "markdown",
   "id": "031e99d0-9e96-4733-87af-72d4902e0b4f",
   "metadata": {},
   "source": [
    "#### 정규분포 추출 randn()"
   ]
  },
  {
   "cell_type": "code",
   "execution_count": 78,
   "id": "cf371a9b-73e7-4c8f-9acc-74cb5b9df8a4",
   "metadata": {},
   "outputs": [
    {
     "data": {
      "text/plain": [
       "array([[ 0.25773285,  0.54630951],\n",
       "       [-1.88836306,  1.5672819 ],\n",
       "       [-1.36421516, -1.59307208]])"
      ]
     },
     "execution_count": 78,
     "metadata": {},
     "output_type": "execute_result"
    }
   ],
   "source": [
    "np.random.randn(3,2)"
   ]
  },
  {
   "cell_type": "markdown",
   "id": "7df71032-7dd9-47c5-9ead-50037b4806a5",
   "metadata": {},
   "source": [
    "### randint()"
   ]
  },
  {
   "cell_type": "code",
   "execution_count": 83,
   "id": "11b5dbee-bf45-428e-b309-2b1dd2f46167",
   "metadata": {},
   "outputs": [
    {
     "data": {
      "text/plain": [
       "array([[5, 1],\n",
       "       [0, 4],\n",
       "       [1, 2]])"
      ]
     },
     "execution_count": 83,
     "metadata": {},
     "output_type": "execute_result"
    }
   ],
   "source": [
    "np.random.randint(0,6,(3,2))"
   ]
  },
  {
   "cell_type": "markdown",
   "id": "2ccf5fc9-dd24-4ed9-bd6b-ad381d3e14a9",
   "metadata": {},
   "source": [
    "### seed()"
   ]
  },
  {
   "cell_type": "code",
   "execution_count": 85,
   "id": "f993b8b4-1158-4e56-b81e-75485fe19aa6",
   "metadata": {},
   "outputs": [
    {
     "data": {
      "text/plain": [
       "array([-0.0005279 , -0.27490142, -0.13928556])"
      ]
     },
     "execution_count": 85,
     "metadata": {},
     "output_type": "execute_result"
    }
   ],
   "source": [
    "np.random.seed(2022)\n",
    "np.random.randn(3)"
   ]
  },
  {
   "cell_type": "code",
   "execution_count": 3,
   "id": "965a7e6a-3a7a-42ae-afb0-d53f9d2b1c5f",
   "metadata": {},
   "outputs": [],
   "source": [
    "x = np.array([[1,2],\n",
    "              [3,4]])\n",
    "y = np.array([[5,6],\n",
    "              [7,8]])"
   ]
  },
  {
   "cell_type": "code",
   "execution_count": 4,
   "id": "eeddf47a-2fba-49bc-86b7-6cdfbc9fd1e5",
   "metadata": {},
   "outputs": [
    {
     "data": {
      "text/plain": [
       "array([[ 6,  8],\n",
       "       [10, 12]])"
      ]
     },
     "execution_count": 4,
     "metadata": {},
     "output_type": "execute_result"
    }
   ],
   "source": [
    "x+y"
   ]
  },
  {
   "cell_type": "code",
   "execution_count": 9,
   "id": "560bbdfa-a821-4a90-9cdc-3473a866f8cc",
   "metadata": {},
   "outputs": [
    {
     "name": "stdout",
     "output_type": "stream",
     "text": [
      "[[ 6  8]\n",
      " [10 12]]\n",
      "[[-4 -4]\n",
      " [-4 -4]]\n",
      "[[ 5 12]\n",
      " [21 32]]\n",
      "[[0.2        0.33333333]\n",
      " [0.42857143 0.5       ]]\n"
     ]
    }
   ],
   "source": [
    "print(np.add(x,y))\n",
    "print(np.subtract(x,y))\n",
    "print(np.multiply(x,y))\n",
    "print(np.divide(x,y))"
   ]
  },
  {
   "cell_type": "code",
   "execution_count": 13,
   "id": "87dd2175-5ddc-4008-a8b5-81e081d7e1de",
   "metadata": {},
   "outputs": [
    {
     "data": {
      "text/plain": [
       "array([[19, 22],\n",
       "       [43, 50]])"
      ]
     },
     "execution_count": 13,
     "metadata": {},
     "output_type": "execute_result"
    }
   ],
   "source": [
    "np.dot(x,y)\n",
    "np.matmul(x,y) #matrix multiply 라는 뜻\n",
    "\n",
    "#둘은 어찌보면 같아보이지만 차원이 달라지면 결과가 달라진다"
   ]
  },
  {
   "cell_type": "code",
   "execution_count": 14,
   "id": "ac42904e-4b98-41b8-8aa8-fbf4e4ea6a23",
   "metadata": {},
   "outputs": [
    {
     "data": {
      "text/plain": [
       "32"
      ]
     },
     "execution_count": 14,
     "metadata": {},
     "output_type": "execute_result"
    }
   ],
   "source": [
    "x = np.array([1,2,3])\n",
    "y = np.array([4,5,6])\n",
    "\n",
    "np.matmul(x,y)"
   ]
  },
  {
   "cell_type": "code",
   "execution_count": 15,
   "id": "aa76be59-697c-4412-98ab-53c399dd3097",
   "metadata": {},
   "outputs": [
    {
     "data": {
      "text/plain": [
       "array([[19, 22],\n",
       "       [43, 50]])"
      ]
     },
     "execution_count": 15,
     "metadata": {},
     "output_type": "execute_result"
    }
   ],
   "source": [
    "x = np.array([[1,2],\n",
    "              [3,4]])\n",
    "y = np.array([[5,6],\n",
    "              [7,8]])\n",
    "np.matmul(x,y)"
   ]
  },
  {
   "cell_type": "markdown",
   "id": "0e361edb-9265-40aa-a21d-40d4e512bcb7",
   "metadata": {},
   "source": [
    "### np.argmax() n축을 중심으로 최대값의 index를 구하는 함수"
   ]
  },
  {
   "cell_type": "code",
   "execution_count": 21,
   "id": "9d55d785-0487-432d-b6e0-65f745cb5808",
   "metadata": {},
   "outputs": [
    {
     "data": {
      "text/plain": [
       "array([[-0.03077231,  1.18238614,  1.23689095,  0.50312536],\n",
       "       [ 1.12590772, -0.34199732, -0.12470786,  1.48867008],\n",
       "       [-0.95158855, -1.9025208 ,  0.14825634, -0.76280314],\n",
       "       [ 0.09903676,  2.04650569, -0.60328592, -2.36709731],\n",
       "       [-0.72543171, -2.28013288,  0.09856831, -0.1412175 ]])"
      ]
     },
     "execution_count": 21,
     "metadata": {},
     "output_type": "execute_result"
    }
   ],
   "source": [
    "x = np.random.randn(5,4)\n",
    "x"
   ]
  },
  {
   "cell_type": "code",
   "execution_count": 23,
   "id": "451f2821-45ff-424f-a466-cc50b665df08",
   "metadata": {},
   "outputs": [
    {
     "name": "stdout",
     "output_type": "stream",
     "text": [
      "[1 3 0 1]\n",
      "[2 3 2 1 2]\n"
     ]
    }
   ],
   "source": [
    "print(np.argmax(x,axis=0)) #열방향\n",
    "print(np.argmax(x,axis=1)) #행방향"
   ]
  },
  {
   "cell_type": "markdown",
   "id": "e3e3db41-6d21-4f6d-adbb-bd36ccb51faa",
   "metadata": {},
   "source": [
    "### savez() 파일 저장함수"
   ]
  },
  {
   "cell_type": "code",
   "execution_count": 26,
   "id": "c599ae6e-e893-47ff-abaf-88470bf9daaf",
   "metadata": {},
   "outputs": [
    {
     "data": {
      "text/plain": [
       "array([[ 0.20567679,  0.03133624, -0.63384248, -0.29895264],\n",
       "       [-0.89821525, -0.03415793,  0.94449403,  0.06669507],\n",
       "       [ 0.30186268,  0.59935703, -0.40274768, -1.36339442],\n",
       "       [-0.84809601,  0.36017983, -0.06941178, -0.72486292],\n",
       "       [ 1.16374356,  0.4107561 ,  1.21750624, -1.4377163 ]])"
      ]
     },
     "execution_count": 26,
     "metadata": {},
     "output_type": "execute_result"
    }
   ],
   "source": [
    "x = np.random.randn(5,4)\n",
    "y = np.random.randn(3,3)\n",
    "x"
   ]
  },
  {
   "cell_type": "code",
   "execution_count": 27,
   "id": "c6a8bd95-8eb8-4abd-80b8-fb2aeb248f97",
   "metadata": {},
   "outputs": [
    {
     "data": {
      "text/plain": [
       "array([[-1.68914283, -0.60093871, -1.54576007],\n",
       "       [-1.61863678,  0.0866914 ,  0.43233746],\n",
       "       [ 0.64923703, -0.8926852 ,  0.27491865]])"
      ]
     },
     "execution_count": 27,
     "metadata": {},
     "output_type": "execute_result"
    }
   ],
   "source": [
    "y"
   ]
  },
  {
   "cell_type": "code",
   "execution_count": null,
   "id": "9618896a-e10b-4b9d-8ca2-a8f452e8f5bd",
   "metadata": {},
   "outputs": [],
   "source": [
    "np.savez('mydata.npz',xvar = x, yvar=y, "
   ]
  }
 ],
 "metadata": {
  "kernelspec": {
   "display_name": "flyai",
   "language": "python",
   "name": "flyai"
  },
  "language_info": {
   "codemirror_mode": {
    "name": "ipython",
    "version": 3
   },
   "file_extension": ".py",
   "mimetype": "text/x-python",
   "name": "python",
   "nbconvert_exporter": "python",
   "pygments_lexer": "ipython3",
   "version": "3.9.13"
  }
 },
 "nbformat": 4,
 "nbformat_minor": 5
}
